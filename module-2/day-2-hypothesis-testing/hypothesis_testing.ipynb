{
 "cells": [
  {
   "cell_type": "markdown",
   "metadata": {},
   "source": [
    "# Hypothesis Testing"
   ]
  },
  {
   "cell_type": "markdown",
   "metadata": {},
   "source": [
    "__Agenda__\n",
    "\n",
    "- Hypothesis Testing - Why do we need them?\n",
    "- One or two tailed hypothesis testing? Which one we should use, when?\n",
    "- Discussion of significance level. It's effect on our study.\n",
    "- Diagnosis and understanding of possible mistakes of the study.\n",
    "- Seeing hypothesis testing in action"
   ]
  },
  {
   "cell_type": "markdown",
   "metadata": {},
   "source": [
    "# Scenario\n",
    "\n",
    "Below you will be loading the simulated salaries of 100 Flatiron School Data Science graduates. Let's say we know that the average salary for all data science bootcamp graduates is 82k and the standard deviation is 10k. Now we would like to understand whether Flatiron School graduates are making more money than other bootcamp graduates."
   ]
  },
  {
   "cell_type": "code",
   "execution_count": 1,
   "metadata": {},
   "outputs": [],
   "source": [
    "import pandas as pd\n",
    "import numpy as np\n",
    "import scipy.stats as stats\n",
    "\n",
    "import matplotlib.pyplot as plt\n",
    "%matplotlib inline"
   ]
  },
  {
   "cell_type": "code",
   "execution_count": 2,
   "metadata": {},
   "outputs": [],
   "source": [
    "sample = pd.read_pickle('data/flatiron_salary.pickle')"
   ]
  },
  {
   "cell_type": "code",
   "execution_count": 4,
   "metadata": {},
   "outputs": [
    {
     "data": {
      "text/plain": [
       "array([ 94.78305321, 104.64742151,  85.7273457 , 107.98604118,\n",
       "        79.25260848,  86.76697797,  70.52945389, 118.8917496 ,\n",
       "        80.35276908, 103.22260038,  98.87787849,  79.41331011,\n",
       "        96.03179302,  87.09659424,  69.12398114,  58.14443583,\n",
       "        83.06560056,  79.19904081,  84.1428429 ,  71.40325889,\n",
       "        59.24910462,  83.7430567 , 101.73552911,  88.10934101,\n",
       "       102.48233727,  67.04022866,  61.9926587 ,  81.83048611,\n",
       "        71.83954513,  58.87389381, 102.14986462, 106.87664632,\n",
       "        65.20245418,  85.83780022,  70.88576526,  91.47114006,\n",
       "        83.20650791,  74.69236676, 100.83131506,  98.52340375,\n",
       "        65.91100027,  89.9373218 ,  74.30974709,  59.98954071,\n",
       "        66.40541303, 101.2245614 ,  70.01311218,  93.90607008,\n",
       "        64.27127922,  85.07735216,  54.11453229,  55.74645221,\n",
       "        92.30125958,  40.18640402,  99.49078267, 100.36034139,\n",
       "        60.84405093,  78.75650857, 117.11454678,  80.93163031,\n",
       "        61.98959758, 105.54573002,  69.47257413,  89.63746734,\n",
       "        62.42924372,  60.50323289,  90.2775412 , 113.9583093 ,\n",
       "        63.21885409,  84.91059013,  51.32006289,  84.33488905,\n",
       "        60.55494014,  87.48698563,  95.49489594,  99.72637448,\n",
       "        92.47796066,  88.05838617,  72.83010615,  74.03886272,\n",
       "       103.20547379, 110.49725705,  96.16380143,  93.4667791 ,\n",
       "        64.76956692,  71.15669104,  77.93328398,  60.25519263,\n",
       "       101.42794044,  73.64709759,  90.05171162,  49.58452442,\n",
       "        82.20081618,  61.02241226,  72.02520251,  76.0431964 ,\n",
       "        73.76356516,  50.54271044,  64.48376313, 100.83037648])"
      ]
     },
     "execution_count": 4,
     "metadata": {},
     "output_type": "execute_result"
    }
   ],
   "source": [
    "sample"
   ]
  },
  {
   "cell_type": "code",
   "execution_count": 3,
   "metadata": {},
   "outputs": [
    {
     "data": {
      "image/png": "[encoded data removed]",
      "text/plain": [
       "<Figure size 432x288 with 1 Axes>"
      ]
     },
     "metadata": {
      "needs_background": "light"
     },
     "output_type": "display_data"
    }
   ],
   "source": [
    "plt.hist(sample)\n",
    "\n",
    "plt.xlabel(\"Randomly Selected Flatiron School Students' salaries\")\n",
    "plt.ylabel('number of students')\n",
    "\n",
    "plt.tight_layout()\n"
   ]
  },
  {
   "cell_type": "markdown",
   "metadata": {},
   "source": [
    "A hypothesis test consists of several stages:\n",
    "\n",
    "1. Hypothesis: also known as the research hypothesis or __alternative hypothesis__ ($H_{a}$). In our case, we hypothesize that the Flatiron School Data Science graduates are earning a higher salary than other data science bootcamp graduates.\n",
    "3. Set-up the __null hypothesis__ ($H_{0}$) that our sample is in fact drawn from a population with the same mean as national bootcamp population. (Naively we can say \"there is no difference between a Flatiron Student graduate's salary and the national bootcamp average.\")\n",
    "4. Set significance level $\\alpha$ (which is usually 0.05 in social studies).\n",
    "5. Construct the sampling distribution of the particular statistic on the assumption that $H_{0}$ is true.\n",
    "6. Compare the sample statistic to that distribution. Find a the probability of getting the sample mean under the null-hypothesis assumption.\n",
    "7. Reject or retain $H_{0}$ based on the $\\alpha$ you've chosen"
   ]
  },
  {
   "cell_type": "markdown",
   "metadata": {},
   "source": [
    "Now let's check the sample mean"
   ]
  },
  {
   "cell_type": "code",
   "execution_count": 5,
   "metadata": {},
   "outputs": [
    {
     "data": {
      "text/plain": [
       "81.27462075770198"
      ]
     },
     "execution_count": 5,
     "metadata": {},
     "output_type": "execute_result"
    }
   ],
   "source": [
    "x_bar = sample.mean()\n",
    "x_bar"
   ]
  },
  {
   "cell_type": "markdown",
   "metadata": {},
   "source": [
    "# Null and Alternative Hypotheses\n",
    "\n",
    "\n",
    "\n",
    "## Alternative Hypothesis ($H_{a}$)\n",
    "<img src=\"img/giphy.gif\" width=\"350\">\n",
    "\n",
    "- claims the difference in the results due to the independent variable (FS in this case)\n",
    "\n",
    "- Alternative can be directional or non-directional. (More salary, Less salary or just different)\n",
    "\n",
    "$H_a$: The average salary for the FS-DS graduates is higher than the national DS bootcamp graduates average.\n",
    "\n",
    "## Null Hypothesis ($H_{0}$)\n",
    "\n",
    "$H_{0}$: The FS-DS graduates average salary is not different or less than the national DS bootcamp graduates avereage salary.\n",
    "\n",
    "- $H_0$ should be logical complement of $H_{a}$.\n",
    "\n",
    "- That is to say: If Alternative is bidirectional than null-hypothesis claims no relation between independent and dependent variables\n",
    "\n",
    "- Alternative is directional (say claims a positive relation) then null claims there is no positive relation which means no effect or an effect in the opposite direction of the Alternative hypothesis.\n",
    "\n",
    "## Significance Level ($\\alpha$)\n",
    "\n",
    "Basically setting how unlikely is too unlikely. Usually we will set is to $\\alpha = 0.05$\n",
    "\n",
    "\n",
    "- p-value: if $H_{0}$ would be true what is the probability of getting such experiment results by just chance. \n",
    "\n",
    "- If this probability is less than a critical pre-determined level $\\alpha$ (significance level - $\\alpha$ - value) then we reject the null hypothesis.\n",
    "\n",
    "- If the obtained probability $p_{value} \\leq \\alpha$: reject $H_{0}$\n",
    "\n",
    "- If the obtained probability $p_{value} \\geq \\alpha$: fail to reject $H_{0}$, retain $H_{0}$\n",
    "\n",
    "- Usually $\\alpha = 0.05$ - Let's talk what it means in action?"
   ]
  },
  {
   "cell_type": "markdown",
   "metadata": {},
   "source": [
    "# Continue the Scenario"
   ]
  },
  {
   "cell_type": "markdown",
   "metadata": {},
   "source": [
    "Note that we have found that x_bar = 84.68. What would be the sampling distribution of the means? Central limit theorem is in our help here."
   ]
  },
  {
   "cell_type": "code",
   "execution_count": 6,
   "metadata": {},
   "outputs": [],
   "source": [
    "mu = 82\n",
    "sigma = 10\n",
    "\n",
    "## sample size\n",
    "n = len(sample)\n",
    "\n",
    "## The mean of the sampling mean distribution\n",
    "## Under the Null-Hypothesis it should be national average\n",
    "sample_mean = mu\n",
    "\n",
    "std_error = sigma/np.sqrt(n)"
   ]
  },
  {
   "cell_type": "markdown",
   "metadata": {},
   "source": [
    "Here I will plot the sampling distribution of the means. Don't try to understand the code. Instead focus on the figure itself."
   ]
  },
  {
   "cell_type": "code",
   "execution_count": 7,
   "metadata": {},
   "outputs": [
    {
     "data": {
      "text/plain": [
       "1.0"
      ]
     },
     "execution_count": 7,
     "metadata": {},
     "output_type": "execute_result"
    }
   ],
   "source": [
    "std_error"
   ]
  },
  {
   "cell_type": "code",
   "execution_count": 8,
   "metadata": {},
   "outputs": [
    {
     "data": {
      "text/plain": [
       "0.03989422804014327"
      ]
     },
     "execution_count": 8,
     "metadata": {},
     "output_type": "execute_result"
    }
   ],
   "source": [
    "stats.norm.pdf(mu, loc=mu, scale=sigma)"
   ]
  },
  {
   "cell_type": "code",
   "execution_count": 9,
   "metadata": {},
   "outputs": [
    {
     "data": {
      "image/png": "[encoded data removed]",
      "text/plain": [
       "<Figure size 576x432 with 1 Axes>"
      ]
     },
     "metadata": {
      "needs_background": "light"
     },
     "output_type": "display_data"
    }
   ],
   "source": [
    "plt.figure(figsize=(8, 6))\n",
    "xsample = np.linspace(72, 92, 100)\n",
    "ysample = stats.norm.pdf(xsample, loc=mu,\n",
    "                         scale=std_error)\n",
    "\n",
    "plt.plot(xsample, ysample)\n",
    "plt.vlines(x=mu, ymin=0, ymax=stats.norm.pdf(mu,\n",
    "                                             loc=mu, scale=std_error),\n",
    "           label=\"The mean of the sampling\\nmean distribution\", color='red')\n",
    "\n",
    "plt.vlines(x=x_bar, ymin=0, ymax=stats.norm.pdf(x_bar,\n",
    "                                                loc=mu, scale=std_error),\n",
    "           label=\"Where our sample mean\\nlies under the null-hypothesis\", color='blue')\n",
    "\n",
    "plt.hlines(y=0, xmin=72, xmax=92, color='k')\n",
    "\n",
    "plt.xlabel('Possible mean salaries of 100 graduates from bootcamps')\n",
    "\n",
    "\n",
    "plt.title('Sample Distribution of the mean')\n",
    "plt.legend(loc='upper right')\n",
    "plt.show()"
   ]
  },
  {
   "cell_type": "markdown",
   "metadata": {},
   "source": [
    "Now let find p_value: What is the probability of x_bar = 84.68 and higher if the null-hypothesis is correct?"
   ]
  },
  {
   "cell_type": "markdown",
   "metadata": {},
   "source": [
    "To solve this problem we will calculate z_score: $\\large\\frac{\\bar{x} - \\mu}{se}$"
   ]
  },
  {
   "cell_type": "code",
   "execution_count": 10,
   "metadata": {},
   "outputs": [
    {
     "data": {
      "text/plain": [
       "-0.7253792422980183"
      ]
     },
     "execution_count": 10,
     "metadata": {},
     "output_type": "execute_result"
    }
   ],
   "source": [
    "z_score = (x_bar - mu) / std_error\n",
    "z_score"
   ]
  },
  {
   "cell_type": "code",
   "execution_count": 11,
   "metadata": {},
   "outputs": [],
   "source": [
    "std_norm = stats.norm(loc=0, scale=1)"
   ]
  },
  {
   "cell_type": "code",
   "execution_count": 12,
   "metadata": {},
   "outputs": [
    {
     "data": {
      "text/plain": [
       "0.7658902980137728"
      ]
     },
     "execution_count": 12,
     "metadata": {},
     "output_type": "execute_result"
    }
   ],
   "source": [
    "# p_value\n",
    "1 - std_norm.cdf(z_score)"
   ]
  },
  {
   "cell_type": "code",
   "execution_count": null,
   "metadata": {},
   "outputs": [],
   "source": [
    "# also:\n",
    "# sf = survival function = 1 - cdf\n",
    "std_norm.sf(z_score)"
   ]
  },
  {
   "cell_type": "markdown",
   "metadata": {},
   "source": [
    "$0.0036 < \\alpha$ (0.05) therefore we can reject the null_hypothesis. We can accept the alternative explanation which is FS - DS graduates are on average having more salary"
   ]
  },
  {
   "cell_type": "code",
   "execution_count": 13,
   "metadata": {},
   "outputs": [
    {
     "data": {
      "text/plain": [
       "0.7658902980137728"
      ]
     },
     "execution_count": 13,
     "metadata": {},
     "output_type": "execute_result"
    }
   ],
   "source": [
    "# Another way of applying z-test in python is\n",
    "stats.norm(loc=mu, scale=std_error).sf(x_bar)"
   ]
  },
  {
   "cell_type": "markdown",
   "metadata": {},
   "source": [
    "## Another Example\n",
    "\n",
    "Let's work with the normal distribution, since it's so useful. Suppose we are told that African elephants have weights distributed normally around a mean of 9000 lbs., with a standard deviation of 900 lbs. Pachyderm Adventures has recently measured the weights of 25 African elephants in Gabon and has calculated their average weight at 8637 lbs. They claim that these statistics on the Gabonese elephants are significant. Let's find out!\n",
    "\n",
    "What is our null hypothesis here?"
   ]
  },
  {
   "cell_type": "code",
   "execution_count": null,
   "metadata": {},
   "outputs": [],
   "source": [
    "# there is no difference between all African elephants and Gabonese African elephants"
   ]
  },
  {
   "cell_type": "markdown",
   "metadata": {},
   "source": [
    "What is our alternative hypothesis here?"
   ]
  },
  {
   "cell_type": "code",
   "execution_count": null,
   "metadata": {},
   "outputs": [],
   "source": [
    "# Gabonese African elephants have a different average weight than all African elephants"
   ]
  },
  {
   "cell_type": "markdown",
   "metadata": {},
   "source": [
    "Let's set a threshold value of $p = 0.05$ for rejecting the null hypothesis.\n",
    "\n",
    "The standard error for our sample is:\n",
    "$\\large\\frac{\\sigma}{\\sqrt{n}} = \\frac{900}{\\sqrt{25}} = 180$."
   ]
  },
  {
   "cell_type": "code",
   "execution_count": 14,
   "metadata": {},
   "outputs": [
    {
     "data": {
      "text/plain": [
       "180.0"
      ]
     },
     "execution_count": 14,
     "metadata": {},
     "output_type": "execute_result"
    }
   ],
   "source": [
    "900 / np.sqrt(25) #no -1 because continuous vlaues"
   ]
  },
  {
   "cell_type": "markdown",
   "metadata": {},
   "source": [
    "The z-score will be: $\\large\\frac{\\bar{x} - \\mu}{se} = \\frac{8637 - 9000}{180} = -\\frac{363}{180} = -2.02$."
   ]
  },
  {
   "cell_type": "code",
   "execution_count": 15,
   "metadata": {},
   "outputs": [
    {
     "data": {
      "text/plain": [
       "-2.0166666666666666"
      ]
     },
     "execution_count": 15,
     "metadata": {},
     "output_type": "execute_result"
    }
   ],
   "source": [
    "(8637 - 9000) / 180 #z-score"
   ]
  },
  {
   "cell_type": "code",
   "execution_count": 18,
   "metadata": {},
   "outputs": [
    {
     "data": {
      "text/plain": [
       "0.02186863651391175"
      ]
     },
     "execution_count": 18,
     "metadata": {},
     "output_type": "execute_result"
    }
   ],
   "source": [
    "# calculate the survival function of your z-score!\n",
    "stats.norm().cdf(-2.0166) #survival function calcs LARGER than z score"
   ]
  },
  {
   "cell_type": "code",
   "execution_count": 20,
   "metadata": {},
   "outputs": [
    {
     "data": {
      "text/plain": [
       "0.04373031073585997"
      ]
     },
     "execution_count": 20,
     "metadata": {},
     "output_type": "execute_result"
    }
   ],
   "source": [
    "stats.norm(loc=9000,scale=180).cdf(8637)*2"
   ]
  },
  {
   "cell_type": "markdown",
   "metadata": {},
   "source": [
    "The \"area of the tail\" corresponding to this z-score is only 2.2%. The area for both tails is thus 4.4%, still less than our 5% threshold value.\n",
    "\n",
    "Thus we ought to reject the null hypothesis and conclude that the Gabonese elephants are statistically significant!"
   ]
  },
  {
   "cell_type": "markdown",
   "metadata": {},
   "source": [
    "## Type 1 Errors (False Positives) and Type 2 Errors (False Negatives)"
   ]
  },
  {
   "cell_type": "markdown",
   "metadata": {},
   "source": [
    "Most tests for the presence of some factor are imperfect. And in fact most tests are imperfect in two ways: They will sometimes fail to predict the presence of that factor when it is after all present, and they will sometimes predict the presence of that factor when in fact it is not. Clearly, the lower these error rates are, the better, but it is not uncommon for these rates to be between 1% and 5%, and sometimes they are even higher than that. (Of course, if they're higher than 50%, then we're better off just flipping a coin to run our test!)\n",
    "\n",
    "Predicting the presence of some factor (i.e. counter to the null hypothesis) when in fact it is not there (i.e. the null hypothesis is true) is called a **\"false positive\"**. Failing to predict the presence of some factor (i.e. in accord with the null hypothesis) when in fact it is there (i.e. the null hypothesis is false) is called a **\"false negative\"**."
   ]
  },
  {
   "cell_type": "markdown",
   "metadata": {},
   "source": [
    "### A Function\n",
    "\n",
    "Suppose I start flipping the same coin twice a day. What I'm curious about is whether the coin is fair or not.\n",
    "\n",
    "My null hypothesis will be that there is \"nothing to see here\", i.e. that the coin is after all fair. The alternative hypothesis will of course be that the coin is not.\n",
    "\n",
    "- **NH**: The coin is fair.\n",
    "- **AH**: The coin is biased.\n",
    "\n",
    "My statistical test will consist of flipping the coin a number of times and looking at those flips' results.\n",
    "\n",
    "If the coin is fair, then my test will result either in a true negative (accurate) or a false positive (inaccurate). If the coin is biased, then the test will result either in a true positive (accurate) or a false negative (inaccurate).\n",
    "\n",
    "Suppose that I set my value for $\\beta$. What I want to understand is how the threshold for rejection of the null hypothesis varies as a function of $\\beta$ and of the number of tosses $k$ that come up \"heads\".\n",
    "\n",
    "I want to write a function that will tell me, given inputs for $p$ and $k$, how many tosses I would need to make before I should reject the null hypothesis.\n",
    "\n",
    "We'll use the ```.binom_test()``` method in scipy's stats module."
   ]
  },
  {
   "cell_type": "code",
   "execution_count": 21,
   "metadata": {},
   "outputs": [],
   "source": [
    "def reject_null(k, beta=0.05, p=0.5, test_alternative='less'):\n",
    "    n = k # starting the number of trials at the number of successes\n",
    "    \n",
    "    pct = stats.binom_test(k, n, p, alternative=test_alternative)\n",
    "    while pct >= beta:\n",
    "        n += 1\n",
    "        pct = stats.binom_test(k, n, p, alternative=test_alternative)\n",
    "    return n"
   ]
  },
  {
   "cell_type": "code",
   "execution_count": 22,
   "metadata": {},
   "outputs": [
    {
     "data": {
      "text/plain": [
       "7"
      ]
     },
     "execution_count": 22,
     "metadata": {},
     "output_type": "execute_result"
    }
   ],
   "source": [
    "# Let's test it out!\n",
    "\n",
    "reject_null(1, beta=0.1, p=0.5)"
   ]
  },
  {
   "cell_type": "code",
   "execution_count": null,
   "metadata": {},
   "outputs": [],
   "source": []
  }
 ],
 "metadata": {
  "kernelspec": {
   "display_name": "Python 3",
   "language": "python",
   "name": "python3"
  },
  "language_info": {
   "codemirror_mode": {
    "name": "ipython",
    "version": 3
   },
   "file_extension": ".py",
   "mimetype": "text/x-python",
   "name": "python",
   "nbconvert_exporter": "python",
   "pygments_lexer": "ipython3",
   "version": "3.7.6"
  },
  "toc": {
   "base_numbering": 1,
   "nav_menu": {},
   "number_sections": true,
   "sideBar": true,
   "skip_h1_title": false,
   "title_cell": "Table of Contents",
   "title_sidebar": "Contents",
   "toc_cell": false,
   "toc_position": {},
   "toc_section_display": true,
   "toc_window_display": false
  }
 },
 "nbformat": 4,
 "nbformat_minor": 4
}
