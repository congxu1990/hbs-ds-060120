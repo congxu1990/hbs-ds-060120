{
 "cells": [
  {
   "cell_type": "markdown",
   "metadata": {},
   "source": [
    "# Hypothesis Testing"
   ]
  },
  {
   "cell_type": "markdown",
   "metadata": {},
   "source": [
    "__Agenda__\n",
    "\n",
    "- Hypothesis Testing - Why do we need them?\n",
    "- One or two tailed hypothesis testing? Which one we should use, when?\n",
    "- Discussion of significance level. It's effect on our study.\n",
    "- Diagnosis and understanding of possible mistakes of the study.\n",
    "- Seeing hypothesis testing in action"
   ]
  },
  {
   "cell_type": "markdown",
   "metadata": {},
   "source": [
    "# Scenario\n",
    "\n",
    "Below you will be loading the simulated salaries of 100 Flatiron School Data Science graduates. Let's say we know that the average salary for all data science bootcamp graduates is 82k and the standard deviation is 10k. Now we would like to understand whether Flatiron School graduates are making more money than other bootcamp graduates."
   ]
  },
  {
   "cell_type": "code",
   "execution_count": 1,
   "metadata": {},
   "outputs": [],
   "source": [
    "import pandas as pd\n",
    "import numpy as np\n",
    "import scipy.stats as stats\n",
    "\n",
    "import matplotlib.pyplot as plt\n",
    "%matplotlib inline"
   ]
  },
  {
   "cell_type": "code",
<<<<<<< HEAD
   "execution_count": 2,
=======
   "execution_count": 3,
>>>>>>> ab8748da2d0978392e2241936ac98b3a6c8f26df
   "metadata": {},
   "outputs": [],
   "source": [
    "sample = pd.read_pickle('data/flatiron_salary.pickle')"
   ]
  },
  {
   "cell_type": "code",
<<<<<<< HEAD
   "execution_count": 4,
   "metadata": {},
   "outputs": [
    {
     "data": {
      "text/plain": [
       "array([ 94.78305321, 104.64742151,  85.7273457 , 107.98604118,\n",
       "        79.25260848,  86.76697797,  70.52945389, 118.8917496 ,\n",
       "        80.35276908, 103.22260038,  98.87787849,  79.41331011,\n",
       "        96.03179302,  87.09659424,  69.12398114,  58.14443583,\n",
       "        83.06560056,  79.19904081,  84.1428429 ,  71.40325889,\n",
       "        59.24910462,  83.7430567 , 101.73552911,  88.10934101,\n",
       "       102.48233727,  67.04022866,  61.9926587 ,  81.83048611,\n",
       "        71.83954513,  58.87389381, 102.14986462, 106.87664632,\n",
       "        65.20245418,  85.83780022,  70.88576526,  91.47114006,\n",
       "        83.20650791,  74.69236676, 100.83131506,  98.52340375,\n",
       "        65.91100027,  89.9373218 ,  74.30974709,  59.98954071,\n",
       "        66.40541303, 101.2245614 ,  70.01311218,  93.90607008,\n",
       "        64.27127922,  85.07735216,  54.11453229,  55.74645221,\n",
       "        92.30125958,  40.18640402,  99.49078267, 100.36034139,\n",
       "        60.84405093,  78.75650857, 117.11454678,  80.93163031,\n",
       "        61.98959758, 105.54573002,  69.47257413,  89.63746734,\n",
       "        62.42924372,  60.50323289,  90.2775412 , 113.9583093 ,\n",
       "        63.21885409,  84.91059013,  51.32006289,  84.33488905,\n",
       "        60.55494014,  87.48698563,  95.49489594,  99.72637448,\n",
       "        92.47796066,  88.05838617,  72.83010615,  74.03886272,\n",
       "       103.20547379, 110.49725705,  96.16380143,  93.4667791 ,\n",
       "        64.76956692,  71.15669104,  77.93328398,  60.25519263,\n",
       "       101.42794044,  73.64709759,  90.05171162,  49.58452442,\n",
       "        82.20081618,  61.02241226,  72.02520251,  76.0431964 ,\n",
       "        73.76356516,  50.54271044,  64.48376313, 100.83037648])"
      ]
     },
     "execution_count": 4,
     "metadata": {},
     "output_type": "execute_result"
    }
   ],
   "source": [
    "sample"
   ]
  },
  {
   "cell_type": "code",
   "execution_count": 3,
   "metadata": {},
   "outputs": [
    {
     "data": {
      "image/png": "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\n",
      "text/plain": [
       "<Figure size 432x288 with 1 Axes>"
      ]
     },
     "metadata": {
      "needs_background": "light"
     },
     "output_type": "display_data"
    }
   ],
=======
   "execution_count": 31,
   "metadata": {},
   "outputs": [],
>>>>>>> ab8748da2d0978392e2241936ac98b3a6c8f26df
   "source": [
    "sample = sample * 1.05"
   ]
  },
  {
   "cell_type": "code",
   "execution_count": 32,
   "metadata": {},
   "outputs": [
    {
     "data": {
      "image/png": "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\n",
      "text/plain": [
       "<Figure size 432x288 with 1 Axes>"
      ]
     },
     "metadata": {
      "needs_background": "light"
     },
     "output_type": "display_data"
    }
   ],
   "source": [
    "plt.hist(sample, bins=20)\n",
    "\n",
    "plt.xlabel(\"Randomly Selected Flatiron School Students' salaries\")\n",
    "plt.ylabel('number of students')\n",
    "\n",
    "plt.tight_layout()\n"
   ]
  },
  {
   "cell_type": "markdown",
   "metadata": {},
   "source": [
    "A hypothesis test consists of several stages:\n",
    "\n",
    "1. Hypothesis: also known as the research hypothesis or __alternative hypothesis__ ($H_{a}$). In our case, we hypothesize that the Flatiron School Data Science graduates are earning a higher salary than other data science bootcamp graduates.\n",
    "3. Set-up the __null hypothesis__ ($H_{0}$) that our sample is in fact drawn from a population with the same mean as national bootcamp population. (Naively we can say \"there is no difference between a Flatiron Student graduate's salary and the national bootcamp average.\")\n",
    "4. Set significance level $\\alpha$ (which is usually 0.05 in social studies).\n",
    "5. Construct the sampling distribution of the particular statistic on the assumption that $H_{0}$ is true.\n",
    "6. Compare the sample statistic to that distribution. Find a the probability of getting the sample mean under the null-hypothesis assumption.\n",
    "7. Reject or retain $H_{0}$ based on the $\\alpha$ you've chosen"
   ]
  },
  {
   "cell_type": "markdown",
   "metadata": {},
   "source": [
    "Now let's check the sample mean"
   ]
  },
  {
   "cell_type": "code",
<<<<<<< HEAD
   "execution_count": 5,
=======
   "execution_count": 33,
>>>>>>> ab8748da2d0978392e2241936ac98b3a6c8f26df
   "metadata": {},
   "outputs": [
    {
     "data": {
      "text/plain": [
<<<<<<< HEAD
       "81.27462075770198"
      ]
     },
     "execution_count": 5,
=======
       "87.55714894227235"
      ]
     },
     "execution_count": 33,
>>>>>>> ab8748da2d0978392e2241936ac98b3a6c8f26df
     "metadata": {},
     "output_type": "execute_result"
    }
   ],
   "source": [
    "x_bar = sample.mean()\n",
    "x_bar"
   ]
  },
  {
   "cell_type": "markdown",
   "metadata": {},
   "source": [
    "# Null and Alternative Hypotheses\n",
    "\n",
    "\n",
    "\n",
    "## Alternative Hypothesis ($H_{a}$)\n",
    "<img src=\"img/giphy.gif\" width=\"350\">\n",
    "\n",
    "- claims the difference in the results due to the independent variable (FS in this case)\n",
    "\n",
    "- Alternative can be directional or non-directional. (More salary, Less salary or just different)\n",
    "\n",
    "$H_a$: The average salary for the FS-DS graduates is higher than the national DS bootcamp graduates average.\n",
    "\n",
    "## Null Hypothesis ($H_{0}$)\n",
    "\n",
    "$H_{0}$: The FS-DS graduates average salary is not different or less than the national DS bootcamp graduates avereage salary.\n",
    "\n",
    "- $H_0$ should be logical complement of $H_{a}$.\n",
    "\n",
    "- That is to say: If Alternative is bidirectional than null-hypothesis claims no relation between independent and dependent variables\n",
    "\n",
    "- Alternative is directional (say claims a positive relation) then null claims there is no positive relation which means no effect or an effect in the opposite direction of the Alternative hypothesis.\n",
    "\n",
    "## Significance Level ($\\alpha$)\n",
    "\n",
    "Basically setting how unlikely is too unlikely. Usually we will set is to $\\alpha = 0.05$\n",
    "\n",
    "\n",
    "- p-value: if $H_{0}$ would be true what is the probability of getting such experiment results by just chance. \n",
    "\n",
    "- If this probability is less than a critical pre-determined level $\\alpha$ (significance level - $\\alpha$ - value) then we reject the null hypothesis.\n",
    "\n",
    "- If the obtained probability $p_{value} \\leq \\alpha$: reject $H_{0}$\n",
    "\n",
    "- If the obtained probability $p_{value} \\geq \\alpha$: fail to reject $H_{0}$, retain $H_{0}$\n",
    "\n",
    "- Usually $\\alpha = 0.05$ - Let's talk what it means in action?"
   ]
  },
  {
   "cell_type": "markdown",
   "metadata": {},
   "source": [
    "# Continue the Scenario"
   ]
  },
  {
   "cell_type": "markdown",
   "metadata": {},
   "source": [
    "Note that we have found that x_bar = 83.4. What would be the sampling distribution of the means? Central limit theorem is in our help here."
   ]
  },
  {
   "cell_type": "code",
<<<<<<< HEAD
   "execution_count": 6,
=======
   "execution_count": 34,
>>>>>>> ab8748da2d0978392e2241936ac98b3a6c8f26df
   "metadata": {},
   "outputs": [],
   "source": [
    "mu = 82\n",
    "sigma = 10\n",
    "\n",
    "## sample size\n",
    "n = len(sample)\n",
    "\n",
    "## The mean of the sampling mean distribution\n",
    "## Under the Null-Hypothesis it should be national average\n",
    "sample_mean = mu\n",
    "\n",
    "std_error = sigma/np.sqrt(n)"
   ]
  },
  {
   "cell_type": "code",
   "execution_count": 35,
   "metadata": {},
   "outputs": [
    {
     "data": {
      "text/plain": [
       "1.0"
      ]
     },
     "execution_count": 35,
     "metadata": {},
     "output_type": "execute_result"
    }
   ],
   "source": [
    "std_error"
   ]
  },
  {
<<<<<<< HEAD
   "cell_type": "code",
   "execution_count": 7,
   "metadata": {},
   "outputs": [
    {
     "data": {
      "text/plain": [
       "1.0"
      ]
     },
     "execution_count": 7,
     "metadata": {},
     "output_type": "execute_result"
    }
   ],
   "source": [
    "std_error"
   ]
  },
  {
   "cell_type": "code",
   "execution_count": 8,
   "metadata": {},
   "outputs": [
    {
     "data": {
      "text/plain": [
       "0.03989422804014327"
      ]
     },
     "execution_count": 8,
     "metadata": {},
     "output_type": "execute_result"
    }
   ],
=======
   "cell_type": "markdown",
   "metadata": {},
>>>>>>> ab8748da2d0978392e2241936ac98b3a6c8f26df
   "source": [
    "Here I will plot the sampling distribution of the means. Don't try to understand the code. Instead focus on the figure itself."
   ]
  },
  {
   "cell_type": "code",
<<<<<<< HEAD
   "execution_count": 9,
=======
   "execution_count": 37,
>>>>>>> ab8748da2d0978392e2241936ac98b3a6c8f26df
   "metadata": {},
   "outputs": [
    {
     "data": {
<<<<<<< HEAD
      "image/png": "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\n",
=======
      "image/png": "iVBORw0KGgoAAAANSUhEUgAAAesAAAGDCAYAAAALVDiWAAAABHNCSVQICAgIfAhkiAAAAAlwSFlzAAALEgAACxIB0t1+/AAAADh0RVh0U29mdHdhcmUAbWF0cGxvdGxpYiB2ZXJzaW9uMy4xLjEsIGh0dHA6Ly9tYXRwbG90bGliLm9yZy8QZhcZAAAgAElEQVR4nOzdeXyU1dn/8c+VPZCNsEnYghRRCBB2EVGosihurfK41YKWWrVqK9Vqa6vUpbWttT5W+7S1WrTVSqUuaOmvFpW6gBWQRUBUQNYghCWBkD05vz9mcUiGZBKSzJLv+/XiRWbuc5/7mslyzTn3Wcw5h4iIiESuuHAHICIiIg1TshYREYlwStYiIiIRTslaREQkwilZi4iIRDglaxERkQinZC0SwMzmmtlfWrH+35nZj1uorj5mVmJm8d7HS8xsdkvU7a3vn2Y2s6Xqa8J17zOzfWb2eYjlW/V7JhIJlKwlIpjZ6Wa21MyKzeyAmb1rZqPDHVdTmNlWMyszs8NmVuR9PdeZmf/3zDl3nXPu3hDrOruhMs657c65NOdcTQvEXi/hOefOcc49dbx1NzGO3sD3gEHOuROCHJ9oZjvbMiaRSKBkLWFnZhnAq8BvgGygJ/AToCKccTXT+c65dKAv8ABwO/BES1/EzBJaus4I0RfY75zbG+5ARCKJkrVEgpMAnHN/dc7VOOfKnHOvOefWAphZfzN7w8z2e7tHnzGzLN/J3lbobWa21syOmNkTZtbd24172MwWm1knb9lcM3Nmdq2ZFZjZbjP73rECM7NTvS3kIjNbY2YTQ3lBzrli59xC4FJgppnleeubZ2b3eb/uYmaveus+YGZvm1mcmf0Z6AO84u3m/n5A3N8ws+3AGwHPBSbu/mb2vreH4mUzy/Zeq16L1Nd6N7NpwA+BS73XW+M97u9W98b1IzPbZmZ7zexpM8us857ONLPt3u/RnQ28p5ne8wu99f3IW//ZwL+BHG8c8+qc1xH4Z8DxEjPL8R5O8tZ52MzWm9mogPNyzOzv3ut9ZmY3NxDbPDP7rfdnp8Tbw3OCmT1sZgfNbKOZDQ+lbjMbY2bLvN/f3Wb2qJklBRx33p6XT711P2ZmdqzYpH1TspZI8AlQY2ZPmdk5vsQawICfATnAKUBvYG6dMhcDk/Ek/vPx/FH/IdAFz8953T/Qk4ABwBTgDgvS5WxmPYF/APfhafHfCvzdzLqG+sKcc+8DO4EJQQ5/z3usK9DdG69zzl0FbMfTSk9zzv0i4Jwz8bwHU49xya8D1+B5r6qBR0KI8f8BPwXme683LEixWd5/k4ATgTTg0TplTgcGAmcBd5nZKce45G+ATG89Z3pjvto5txg4ByjwxjGrTpxH6hxPc84VeA9fADwHZAELfbGZ5xbEK8AaPD02ZwHfNbNjvX8A/wP8CM/PTgWwDPjA+3gB8FCIddcAt3jPG+c9fkOda50HjAaGea/bUFzSjilZS9g55w7h+UPvgMeBQjNbaGbdvcc3Oef+7ZyrcM4V4vljeWadan7jnNvjnNsFvA381zm3yjlXAbwIDK9T/ifOuSPOuQ+BPwGXBwnta8Ai59wi51ytc+7fwArg3Ca+xAI8yb6uKqAH0Nc5V+Wce9s1vlj/XG/cZcc4/mfn3DpvYvsx8D/mHYB2nK4EHnLObXHOlQA/AC6r06r/ibdXZA2eBFYv6XtjuRT4gXPusHNuK/Ar4KrjjO8d7/epBvhzwLVHA12dc/c45yqdc1vw/Ixd1kBdLzrnVjrnyvH87JQ755721j2fL36WGqzbW8d7zrlq7+v8PfV/bh9wzhU557YDbwL5x/k+SIyK1fteEmWccx/hablhZicDfwEeBi43s254WogTgHQ8HzIP1qliT8DXZUEep9UpvyPg623AkCBh9QVmmNn5Ac8l4vmj2hQ9gQNBnv8lnh6C17y9n39wzj3QSF07mnB8G554u4QWZoNyvPUF1p2Ap0fAJ3D0din133O8sSQFqavnccZX99op3g8SffF0mxcFHI/H84HuWEL9WWqwbjM7Cc8Hy1FABzzv18pG4g72nomoZS2Rxzm3EZgH5Hmf+hmeVvdQ51wGnhbv8d7b6x3wdR88rd+6duBpqWYF/OsYQkL1M8+I9p7AO3WPeVuW33POnYin636OmZ3lO3yMKhtredd9XVXAPuAInoThiyseT/d7qPUW4ElOgXVXc3QiC8U+b0x169oV4vlN3SZwB/BZne9hunOuqb0jzan7/4CNwADvz+0POf6fW2mnlKwl7MzsZDP7npn18j7ujadb+j1vkXSgBCjy3ke+rQUu+2Mz62Bmg4Gr8XRv1vUX4Hwzm2pm8WaW4h2o1SuE15RhZufhuY/6F293e90y55nZl7yDig7hucfpm4a1B8893ab6mpkNMrMOwD3AAm/37Sd4WpvTzSwRzz3Z5IDz9gC5FjDNrI6/AreYWT8zS+OLe9zVTQnOG8vfgPvNLN3M+gJz8LzXodgDdPYNbgvB+8AhM7vdzFK938c8a5lpgY3VnY7n+1ri7S26vgWuKe2UkrVEgsPAWOC/ZnYET5Jeh2cAFnimcY0AivEM+HqhBa75H2AT8DrwoHPutboFnHM7gAvxtIgK8bSkbqPh35tXzOywt+ydeLpBrz5G2QHAYjwfRJYBv3XOLfEe+xnwI+9I4lub8Lr+jKdX4nMgBe/AOudcMZ7BTX/E04o9gmdwm8/z3v/3m9kHQep90lv3W8BnQDlwUxPiCnST9/pb8PQ4POutv1HeXpe/Alu8701OI+Vr8PRa5Hvj3ofnPQg12R9P3bcCV+D5+X6c4B8IRUJijY9nEYkdZpaL5w9rYlNbhSIi4aKWtYiISIRTshYREYlw6gYXERGJcGpZi4iIRDglaxERkQgXcSuYdenSxeXm5oY7DBERkTazcuXKfc65Y+47EHHJOjc3lxUrVoQ7DBERkTZjZtsaOq5ucBERkQinZC0iIhLhlKxFREQiXMTdsxaR9q2qqoqdO3dSXl4e7lBEWlxKSgq9evUiMTGxSecpWYtIRNm5cyfp6enk5ubi3edbJCY459i/fz87d+6kX79+TTpX3eAiElHKy8vp3LmzErXEHDOjc+fOzeo1UrIWkYijRC2xqrk/20rWIiIB9u/fT35+Pvn5+Zxwwgn07NmT/Px8srKyGDRoULjDa3GPPPIIp5xyCldeeeVRz69evZpFixb5H8+dO5cHH3ywrcNrlsBY77rrLhYvXhzmiI5fSMnazKaZ2cdmtsnM7mig3CVm5sxsVMBzP/Ce97GZTW2JoEVEWkvnzp1ZvXo1q1ev5rrrruOWW27xP46Li732zW9/+1sWLVrEM888c9TzdZN1tLrnnns4++yzwx3GcWv0J8/M4oHHgHOAQcDlZlbv46WZpQM3A/8NeG4QcBkwGJgG/NZbn4hI1KmpqeGb3/wmgwcPZsqUKZSVlQGwefNmpk2bxsiRI5kwYQIbN26sd+7cuXOZOXMmU6ZMITc3lxdeeIHvf//7DBkyhGnTplFVVQXAypUrOfPMMxk5ciRTp05l9+7dADz++OOMHj2aYcOGcfHFF1NaWgrArFmzuPnmmznttNM48cQTWbBgQdDYH3roIfLy8sjLy+Phhx8G4LrrrmPLli1ccMEF/PrXv/aXrays5K677mL+/Pnk5+czf/58ADZs2MDEiRM58cQTeeSRR/zl//KXvzBmzBjy8/P51re+RU1NTb3r33HHHQwaNIihQ4dy6623AvDKK68wduxYhg8fztlnn82ePXua9F7l5uZy++23M2bMGMaMGcOmTZvqXXfWrFn+9yQ3N5e7776bESNGMGTIEP/3qbCwkMmTJzNixAi+9a1v0bdvX/bt2xf0fQwb51yD/4BxwL8CHv8A+EGQcg8D5wFLgFHBygL/AsY1dL2RI0c6EWm/NmzYEO4Q/O6++273y1/+0jnn3Geffebi4+PdqlWrnHPOzZgxw/35z392zjn35S9/2X3yySfOOefee+89N2nSpKB1jR8/3lVWVrrVq1e71NRUt2jRIueccxdddJF78cUXXWVlpRs3bpzbu3evc8655557zl199dXOOef27dvnr+vOO+90jzzyiHPOuZkzZ7pLLrnE1dTUuPXr17v+/fvXu/aKFStcXl6eKykpcYcPH3aDBg1yH3zwgXPOub59+7rCwsJ65/zpT39y3/72t4+Kf9y4ca68vNwVFha67OxsV1lZ6TZs2ODOO+88V1lZ6Zxz7vrrr3dPPfXUUXXt37/fnXTSSa62ttY559zBgwedc84dOHDA/9zjjz/u5syZE/J75Yv9vvvuc84599RTT7np06fX+77NnDnTPf/88/7yvvftsccec9/4xjecc859+9vfdj/96U+dc87985//dEDQ96SlBPsZB1a4BnJjKFO3egI7Ah7vBMYGFjCz4UBv59yrZnZrnXPfq3NuzxCuKSIScfr160d+fj4AI0eOZOvWrZSUlLB06VJmzJjhL1dRURH0/HPOOYfExESGDBlCTU0N06ZNA2DIkCFs3bqVjz/+mHXr1jF58mTA05Lv0aMHAOvWreNHP/oRRUVFlJSUMHXqF3cVL7roIuLi4hg0aJC/dRronXfe4Stf+QodO3YE4Ktf/Spvv/02w4cPb9Lrnz59OsnJySQnJ9OtWzf27NnD66+/zsqVKxk9ejQAZWVldOvW7ajzMjIySElJYfbs2UyfPp3zzjsP8EzTu/TSS9m9ezeVlZVHTWdq7L3yufzyy/3/33LLLY2+hq9+9auA5/v3wgsv+N+fF198EYBp06bRqVOnJr0vbSGUZB1s6JrzHzSLA34NzGrquQF1XAtcC9CnT58QQhKRFjdxouf/JUvCGUVES05O9n8dHx9PWVkZtbW1ZGVlsXr16pDPj4uLIzEx0T8yOC4ujurqapxzDB48mGXLltU7d9asWbz00ksMGzaMefPmsSTg+xQYl6eRdrRgzzVH3dfvi3nmzJn87Gc/O+Z5CQkJvP/++7z++us899xzPProo7zxxhvcdNNNzJkzhwsuuIAlS5Ywd+7cetc61nvlEzi6OpSR1r56ffFDy70/rSmU0RI7gd4Bj3sBBQGP04E8YImZbQVOBRZ6B5k1di4Azrk/OOdGOedGde16zB3CRKSFHS6v4uo/vc9XfvsuXxl8JV8ZfCWX/N9SVm47EO7QokZGRgb9+vXj+eefBzx/+NesWdOsugYOHEhhYaE/WVdVVbF+/XoADh8+TI8ePaiqqqo3GKwxZ5xxBi+99BKlpaUcOXKEF198kQkTJjR4Tnp6OocPH2607rPOOosFCxawd+9eAA4cOMC2bUdvIFVSUkJxcTHnnnsuDz/8sP+DTXFxMT17ejpbn3rqqSa9Jh/f/fT58+czbty4ZtVx+umn87e//Q2A1157jYMHDzarntYUSrJeDgwws35mloRnwNhC30HnXLFzrotzLtc5l4un2/sC59wKb7nLzCzZzPoBA4D3W/xViEiz/PPDz3nz40KSE+JIq6kgraaCjz8/zONvfRbu0KLKM888wxNPPMGwYcMYPHgwL7/8crPqSUpKYsGCBdx+++0MGzaM/Px8li5dCsC9997L2LFjmTx5MieffHKT6h0xYgSzZs1izJgxjB07ltmzZzfaBT5p0iQ2bNhw1ACzYAYNGsR9993HlClTGDp0KJMnT/YPivM5fPgw5513HkOHDuXMM8/0D2abO3cuM2bMYMKECXTp0qVJr8mnoqKCsWPH8r//+79HDZJrirvvvpvXXnuNESNG8M9//pMePXqQnp7erLpai4XS/Dezc/EMIIsHnnTO3W9m9+C5Ib6wTtklwK3eZI2Z3QlcA1QD33XO/bOha40aNcppP2uRtvG1P/6XHQdLWXLrRGzSJADmznmMZ9/fzoofnU1GStPWL24JH330EaecckqbX1eiT25uLitWrGh2ovepqKggPj6ehIQEli1bxvXXXx/SbY3mCvYzbmYrnXOjjnFKaGuDO+cWAYvqPHfXMcpOrPP4fuD+UK4jIm1n7+Fylm7exw0Tv3TUvb4L8nOYt3Qrr63fwyUje4UxQpG2sX37dv7nf/6H2tpakpKSePzxx8MdUj3ayEOknVq0dje1zpOcAw3vnUXv7FQWrimIjGTtG/jWUjSALmYEjgo/HgMGDGDVqlUtUldrib3leEQkJK+s3c3JJ6RzUvej782ZGecPzeHdTfvYXxJ8CpKItC21rEXaoZ0HS1m57SC3TR0Y9PgF+Tn8dslmFn24m6vG5bZtcHW145bw1q1bOe+881i3bh0rVqzg6aefPmrlsLplly5dyhVXXBH0eEFBATfffDMLFixg3rx5rFixgkcffTTkWObNm8eUKVPIyfH0xMyePZs5c+bE5HrpkUgta5F26JU1ntG6FwzLCXp8YPd0BnRLY+GaejMtJUxGjRp1zEQNnmT97LPPBj1WXV1NTk7OMZciDcW8efMoKPji5+GPf/yjEnUbUrIWaYcWrilgeJ8semd3CHrczLhgWA7Ltx5kV1FZG0cXXlu3buXkk09m9uzZ5OXlceWVV7J48WLGjx/PgAEDeP99z+zTI0eOcM011zB69GiGDx/un661detWJkyYwIgRIxgxYoR/6tWSJUuYOHEil1xyCSeffDJXXnll0MU4Vq5cybBhwxg3bhyPPfaY//klS5b4V/76z3/+498ZbPjw4Rw+fJg77riDt99+m/z8fH79618zb948ZsyYwfnnn8+UKVPYunUreXl5/vp27NjBtGnTGDhwID/5yU/8sQeWefDBB5k7dy4LFixgxYoVXHnlleTn51NWVsbEiRPxzdz561//ypAhQ8jLy+P222/3n5+Wlsadd97JsGHDOPXUU4OuriahUbIWaWc27T3MR7sPHbNV7XO+9/ir7bB1vWnTJr7zne+wdu1aNm7cyLPPPss777zDgw8+yE9/+lMA7r//fr785S+zfPly3nzzTW677TaOHDlCt27d+Pe//80HH3zA/Pnzufnmm/31rlq1iocffpgNGzawZcsW3n333XrXvvrqq3nkkUeCrmLm8+CDD/LYY4+xevVq3n77bVJTU3nggQeYMGECq1ev9i+7uWzZMp566ineeOONenW8//77PPPMM6xevZrnn3+ehqbMXnLJJYwaNcpfPjU11X+soKCA22+/nTfeeIPVq1ezfPlyXnrpJcDzgebUU09lzZo1nHHGGRE5yjpaKFmLtDMLVxcQZzB9aI8Gy+V26ciwXpntsiu8X79+DBkyhLi4OAYPHsxZZ52FmR21LvVrr73GAw88QH5+PhMnTqS8vJzt27dTVVXFN7/5TYYMGcKMGTPYsGGDv94xY8bQq1cv4uLiyM/Przeaubi4mKKiIs4880wArrrqqqDxjR8/njlz5vDII49QVFREQkLw4UeTJ08mOzv7mMc6d+5MamoqX/3qV3nnnXea+C55LF++nIkTJ9K1a1cSEhK48soreeuttwDPIi++3gDfWurSPBpgJtKOOOdYuKaAcf070y09pdHy5w/L4b5/fMTmwhL6d01rgwgjQ+Aa2HFxcUetUx24nvTf//53Bg48epDe3Llz6d69O2vWrKG2tpaUlJSg9QauTe3jnAtpfes77riD6dOns2jRIk499VQWL14ctJxv445g6l7HzEhISKC2ttb/XHl5eaOxNLSwVuCa3sFer4ROLWuRdmTD7kNs3V/aaBe4z/nDcjDzzMmWo02dOpXf/OY3/mTlm6dbXFxMjx49iIuL489//nPQvZ2PJSsri8zMTH8r91hrgG/evJkhQ4Zw++23M2rUKDZu3BjyWt4+//73vzlw4ABlZWW89NJLjB8/nu7du7N37172799PRUUFr776qr/8seofO3Ys//nPf9i3bx81NTX89a9/9fcMSMtRy1qkHVmzoxiA0/qHtjxj94wU+ndNY83OotYMKyr9+Mc/5rvf/S5Dhw7FOUdubi6vvvoqN9xwAxdffDHPP/88kyZNarB1G8yf/vQnrrnmGjp06HDUNpiBHn74Yd58803i4+MZNGgQ55xzDnFxcSQkJDBs2DBmzZrV6DaPp59+OldddRWbNm3iiiuuYNQoz0qXd911F2PHjqVfv35HrUE+a9YsrrvuOlJTU4+6n96jRw9+9rOfMWnSJJxznHvuuVx44YVNes3SuJDWBm9LWhtcpPX8+KV1vLRqF2vnTqnf3XqMLTJv/usqVm47yLt3fLlNYtTa4BLrmrM2uLrBRdqRj3Yf4pQeGSHdF/U5pUcGu4rKKC6tasXIRKQhStYi7URtrfMm66Zt/ecrv2H3odYIS0RCoGQt0k7sOFjKkcoaTumR0aTzBuV4yn+kZC0SNkrWIu2EL9n6km+ouqWn0CUtSclaJIyUrEXaiQ0Fh4gz6u2yFYpTemSoG1wkjJSsRdqJDbsPc2LXNFIS45t87ik9Mvh0TwlVNbWNFxaRFqdkLdJO+EaCN8egHhlU1tSypfBIC0cVeW655RYefvhh/+OpU6cye/Zs/+Pvfe97PPTQQ0dtrCHBzZs3jxtvvDHcYcQEJWuRdqC4rIpdRWVNHgnu40vy7eG+9WmnnebfKau2tpZ9+/axfv16//GlS5cyfvz4475OWy292ZQV1CRyKVmLtAP+wWXNbFmf2LUjSfFx7eK+9fjx4/3Jev369eTl5ZGens7BgwepqKjgo48+Yvjw4QCUlJQE3fJy5cqVnHnmmYwcOZKpU6eye7dnudaJEyfywx/+kDPPPJP//d//pbCwkIsvvpjRo0czevTooLtwlZeXc/XVVzNkyBCGDx/Om2++CdRvtZ533nks8S5ok5aW5l+JrO7uXY888giDBg1i6NChXHbZZYBnB67TTjuN4cOHc9ppp/Hxxx/7r3HRRRdx/vnn069fPx599FEeeughhg8fzqmnnsqBAwf8r+u73/0up512Gnl5ef5tRAOF8lpDvd7mzZuZNm0aI0eOZMKECWzcuBGAV155hbFjxzJ8+HDOPvts/5acc+fO5ZprrmHixImceOKJDe4LHqm03KhIO3C8yToxPo4B3dPaRcs6JyeHhIQEtm/fztKlSxk3bhy7du1i2bJlZGZmMnToUJKSkgDPeuDr168nJyeH8ePH8+677zJ27FhuuukmXn75Zbp27cr8+fO58847efLJJwEoKiriP//5DwBXXHEFt9xyC6effjrbt29n6tSpfPTRR0fF49vT+sMPP2Tjxo1MmTKFTz75pMHXcOTIEfLy8rjnnnvqHXvggQf47LPPSE5OpqjIs4zsySefzFtvvUVCQgKLFy/mhz/8IX//+98BWLduHatWraK8vJwvfelL/PznP2fVqlXccsstPP3003z3u9/1X3Pp0qW89dZbXHPNNaxbt+6o637nO99p9LWGer1rr72W3/3udwwYMID//ve/3HDDDbzxxhucfvrpvPfee5gZf/zjH/nFL37Br371KwA2btzIm2++yeHDhxk4cCDXX389iYmJDb6PkUTJWqQd+Gj3ITp3TKJrenLjhY9hUI8M3ti4N+SdoaKZr3W9dOlS5syZw65du1i6dCmZmZmcdtpp/nK+LS8B/5aXWVlZrFu3jsmTJwOebugePb7YjvTSSy/1f7148eKjttA8dOgQhw8fJj39i9sV77zzDjfddBPgSap9+/ZtNFnHx8dz8cUXBz02dOhQrrzySi666CIuuugiwLP5yMyZM/n0008xM6qqvlitbtKkSaSnp5Oenk5mZibnn38+AEOGDGHt2rX+cpdffjkAZ5xxBocOHfJ/EGjKaw3leiUlJSxdupQZM2b4z6moqABg586dXHrppezevZvKykr69evnLzN9+nSSk5NJTk6mW7du7Nmzx/+9iwZK1iLtwIZmLDNa1yk9Mnh+5U4KD1fQLaPx7TWjme++9YcffkheXh69e/fmV7/6FRkZGVxzzTX+csG2vHTOMXjw4Hrdzz6BG3vU1taybNkyUlNTjxnLsfZvaGg7y5SUFOLjg4/6/8c//sFbb73FwoULuffee1m/fj0//vGPmTRpEi+++CJbt25lom+deELbLhSCb7kZKJTXGsr1amtrycrKYvXq1fXOvemmm5gzZw4XXHABS5YsYe7cuUHrjcbtOnXPWiTGVdfU8smekiYvhlKXb5BZe7lv/eqrr5KdnU18fDzZ2dkUFRWxbNkyxo0b1+C5AwcOpLCw0J+sq6qqjhqgFmjKlCk8+uij/sfBEtAZZ5zh3yrzk08+Yfv27QwcOJDc3FxWr15NbW0tO3bsCHqfuC5f2UmTJvGLX/yCoqIiSkpKKC4upmfPnoDnvnFzzJ8/H/D0BGRmZpKZmdnk1xqKjIwM+vXrx/PPPw94PsysWbMG4KjX8dRTTzWr/kilZC0S47bsO0JldW2zR4L7DPKPCA99z+RoNWTIEPbt28epp5561HOZmZl06dLw9qJJSUksWLCA22+/nWHDhpGfn+8fsFbXI488wooVKxg6dCiDBg3id7/7Xb0yN9xwAzU1NQwZMoRLL72UefPmkZyczPjx4+nXrx9Dhgzh1ltvZcSIEY2+rpqaGr72ta/5B6vdcsstZGVl8f3vf58f/OAHjB8/vtmjxzt16sRpp53GddddxxNPPNGs1xqqZ555hieeeIJhw4YxePBgXn75ZcAzkGzGjBlMmDCh0e9TtNEWmSIx7qVVu/ju/NX8v+9O4OQTGmhdH2OLzEDjH3iDEX078ZvLh7dojIG0RWb0mThxIg8++KB/T2xpmLbIFJF6Ptp9iKT4OPp3TTvuuk7pkd4uRoSLRBoNMBOJcRt2H2JA9zQS44//s/kp3hHh5VU1zVq2tDkCxjq1iAY6DqSZluhNbXUh/faa2TQz+9jMNpnZHUGOX2dmH5rZajN7x8wGeZ/PNbMy7/Orzaz5NylEpFmOZ5nRugb1yKDWwcefx/Z967Q0Ty9EQUEBl1xySZij8dyLffDBB5t9/urVq1m0aFGL1dccvvd069at5OXlBS0zceJEWvM26NatW3n22Wf9j1tqOdTf/e53PP3008ddT0MabVmbWTzwGDAZ2AksN7OFzrkNAcWedc79zlv+AuAhYJr32GbnXH7Lhi0iodh7uJx9JZUtlqwDlx0d1jurRepsTDgbbVDcBSQAACAASURBVDk5OSxYsCB8ATRTdXU1CQlf/HlfvXo1K1as4Nxzzw1jVOHnS9ZXXHFFi9Z73XXXtWh9wYTSsh4DbHLObXHOVQLPARcGFnDOBd7E6ghE1qg1kXbKN3L7eEeC+/TJ7kDHpPh2c986sBVYU1PDbbfdxujRoxk6dCi///3vAdi9ezdnnHEG+fn55OXl8fbbb9erJzc3l3379gGwYsUK/zzmhpbBvP/++xk4cCBnn322f/lPOPZSm7NmzWLOnDlMmjSJ22+/3V++srKSu+66i/nz55Ofn++fYrVhw4ag1/3LX/7CmDFjyM/P51vf+lbQ0eG5ubncfffdjBgxgiFDhvhjqNtiz8vLY+vWraG/4cDzzz/PmDFjOOmkk/zv5YQJE46a6jV+/HjWrl3L3Llzueqqq/jyl7/MgAEDePzxxwHPdK7bbruNvLw8hgwZ4n/Nd9xxB2+//Tb5+fn8+te/Bjy9J9OmTWPAgAF8//vf91/jtddeY9y4cYwYMYIZM2ZQUlLir8O3XOutt95a73UHW861JYRyz7onsCPg8U5gbN1CZvZtYA6QBHw54FA/M1sFHAJ+5Jyr/5MsIq1i817PH5gB3VomWcfFGf27pbG5Hey+VdcTTzxBZmYmy5cvp6KigvHjxzNlyhReeOEFpk6dyp133klNTQ2lpaVNqjfYMphr167lueeeY9WqVVRXVzNixAhGjhwJcMylNsEzD3vx4sVHLYiSlJTEPffcw4oVK/zznOfOnRv0ups2bWL+/Pm8++67JCYmcsMNN/DMM8/w9a9/vV7cXbp04YMPPuC3v/0tDz74IH/84x+b+9Yepbq6mvfff59Fixbxk5/8hMWLFzN79mzmzZvHww8/zCeffEJFRQVDhw7lhRdeYO3atbz33nscOXKE4cOHM336dJYtW8bq1atZs2YN+/btY/To0Zxxxhk88MADPPjgg7z66quApxt89erVrFq1iuTkZAYOHMhNN91Eamoq9913H4sXL6Zjx478/Oc/56GHHuLGG2/kxRdfZOPGjZhZvVXaIPhyri0hlGQdbMmjei1n59xjwGNmdgXwI2AmsBvo45zbb2YjgZfMbHCdljhmdi1wLUCfPn2a+BJE5Fi2HyilQ1I8XdKSWqzOPtkdWLuzuMXqixavvfYaa9eu9XeLFxcX8+mnnzJ69GiuueYaqqqquOiii8jPb9pdv2DLYL799tt85StfoUOHDgBccMEFAA0utQkwY8aMY65cFsp1X3/9dVauXMno0aMBKCsro1u3bkHP/+pXvwrAyJEjeeGFF5r0mhsSWK+vVT5jxgzuvfdefvnLX/Lkk08ya9Ysf/kLL7yQ1NRUUlNTmTRpEu+//z7vvPMOl19+OfHx8XTv3p0zzzyT5cuXk5FR/3bQWWed5V/AZdCgQWzbto2ioiI2bNjg312tsrKScePGkZGRQUpKCrNnz2b69OlBt0gNtpxrSwglWe8Eegc87gUUNFD+OeD/AJxzFUCF9+uVZrYZOAk4agSBc+4PwB/AM8861OBFpGHbD5TSJ7tDi67l3bdzB/657nOqampbZIR5tHDO8Zvf/IapU6fWO/bWW2/xj3/8g6uuuorbbrutXks0cGnQwGVB4djLYAb7njW01CYcvZRpY461VOrMmTP52c9+FvL5gTE3tARqMFdffTWrVq0iJyfHPwAuWL0dOnRg8uTJvPzyy/ztb387ahBasGVOm7J+yLHeh8mTJ/PXv/61Xvn333+f119/neeee45HH33U36vhE2w518DxA80Vym/acmCAmfUzsyTgMmBhYAEzGxDwcDrwqff5rt4BapjZicAAYMtxRy0iIdm2/wh9O3do0Tr7ZnekptZRUFTWovVGuqlTp/J///d//k0uPvnkE44cOcK2bdvo1q0b3/zmN/nGN77BBx98UO/c3NxcVq5cCeDfzaohZ5xxBi+++CJlZWUcPnyYV155BWh4qc2GpKenc/hw4yP4zzrrLBYsWMDevXsBOHDgANu2bWv0PJ/c3Fz/6//ggw/47LPPGiz/pz/9qd5I9WOZPXs2N998M6NHjyY7O9v//Msvv0x5eTn79+9nyZIl/i7v+fPnU1NTQ2FhIW+99RZjxowJ+X049dRTeffdd9m0aRMApaWlfPLJJ/6lWc8991wefvjheh+ajrWca0toNN0756rN7EbgX0A88KRzbr2Z3QOscM4tBG40s7OBKuAgni5wgDOAe8ysGqgBrnPOHWiRyEWkQbW1jh0HyzjrlO4tWm8fb/Lftr+Uvp1Db8lFu9mzZ7N161ZGjBiBc46uXbvy0ksvsWTJEn75y1+SmJhIWlpa0Ck8d999N9/4xjf46U9/ytix9Yb81DNixAguvfRS8vPz6du3LxMmTPAfe+aZZ7j++uu57777qKqq4rLLLmPYsGEN1jdp0iQeeOAB8vPz+cEPfnDMcoMGDeK+++5jypQp1NbWkpiYyGOPPUbfvn0bjRng4osv5umnnyY/P5/Ro0dz0kknhXReKEaOHElGRgZXX331Uc+PGTOG6dOns337dn784x+Tk5PDV77yFZYtW8awYcMwM37xi19wwgkn0LlzZxISEhg2bBizZs2iU6dOQa/VtWtX5s2bx+WXX+6/zXDfffeRnp7OhRdeSHl5Oc45/yA1H99yrsXFxTjn/Mu5tgQtNyoSowqKyjjtgTe476I8vnZqCH9sQ1huFGB3cRnjfvYG916Ux1Wh1NtEWm5UgikoKGDixIls3LiRuDhPp/DcuXNJS0vzj8qOFlpuVET8tu33jEpu6W7w7ukpJCXEsX1/+xsRLuHx9NNPM3bsWO6//35/om5vtNyoSIzafsCTTPtmt2xXdVyc0Se7g//DgEhr+/rXvx50+ljgftWxrn1+RBFpB7btLyUhzsjJSmnxuvtmd2D7ASVrkbaiZC0So7YfKKVnp1QSWmF6VZ/OnmTdWmNeIm0sjUhLae7PtpK1SIzyzbFuDX2yO1BaWcO+ksoWrzslJYX9+/crYUvMcc6xf/9+UlKa3tule9YiMWrb/lLOG9qjVer2DVrbfuAIXdOTGyndNL169WLnzp0UFha2aL0ikSAlJYVevXo1+Twla5EYVFxaRXFZVYuPBPfp4x20tm1/KSP7ZjdSumkSExPp169fi9YpEu3UDS4Sg7Z5R4L3aeGR4D69s1MxQyPCRdqIkrVIDGqtOdY+yQnx9MhI0YhwkTaiZC0Sg3xJtLUGmIFnRPg2LYwi0iaUrEVi0Lb9R+iSlkzH5NYbltI3u6Na1iJtRMlaJAZ5NtlovVY1eFrW+0oqKamobtXriIiStUhM2nGglL6t2AUOX9wP36HWtUirU7IWiTEV1TXsPlTu38qytfQNmL4lIq1LyVokxuw4UIZzrTcS3KdPwMIoItK6lKxFYsx2/xzr1k3WmamJZKYmqmUt0gaUrEVijC95ttaCKIH6dtbuWyJtQclaJMZs219Kh6R4uqQltfq1tK+1SNtQshaJMb7dtsys1a/Vt3MHdhWVUVVT2+rXEmnPlKxFYsy2/UdafXCZT9/sjtTUOgqKytrkeiLtlZK1SAyprXXsOFhG386tf78aAkeEqytcpDUpWYvEkD2Hy6msrm31keA+vha87luLtC4la5EY0tq7bdXVPT2FpIQ4taxFWpmStUgM2e5L1m0wbQsgLs68I8K1MIpIa1KyFokhOw+WEmfQIyulza7Zu1MqOw9qgJlIa1KyFokhu4rK6Z6RQmJ82/1q52SlajS4SCtTshaJIQVFZfTMSm3Ta/bslMrB0ipKK7VVpkhrUbIWiSG7isrIaetk7b2eWtcirUfJWiRG1NY6dhe3fbL2XW9XUXmbXlekPQkpWZvZNDP72Mw2mdkdQY5fZ2YfmtlqM3vHzAYFHPuB97yPzWxqSwYvIl/YV1JBVY2jZxsOLoMvkrVa1iKtp9FkbWbxwGPAOcAg4PLAZOz1rHNuiHMuH/gF8JD33EHAZcBgYBrwW299ItLCdnmTZVu3rLunJxNnStYirSmUlvUYYJNzbotzrhJ4DrgwsIBz7lDAw46A8359IfCcc67COfcZsMlbn4i0sAJvN3RbJ+uE+DhOyEjxf1gQkZaXEEKZnsCOgMc7gbF1C5nZt4E5QBLw5YBz36tzbs8g514LXAvQp0+fUOIWkTp2FXkWROnZqW2Tte+aalmLtJ5QWtbB9tlz9Z5w7jHnXH/gduBHTTz3D865Uc65UV27dg0hJBGpq6ConPTkBDJSEtv82p651hpgJtJaQknWO4HeAY97AQUNlH8OuKiZ54pIM4Vj2pZPTlYqu4vLqK2t91lcRFpAKMl6OTDAzPqZWRKeAWMLAwuY2YCAh9OBT71fLwQuM7NkM+sHDADeP/6wRaSugqIyctp4JLhPTlYqVTWOwpKKsFxfJNY1es/aOVdtZjcC/wLigSedc+vN7B5ghXNuIXCjmZ0NVAEHgZnec9eb2d+ADUA18G3nXE0rvRaRdq2gqIz83llhubZvutiuojK6Z4TnA4NILAtlgBnOuUXAojrP3RXw9XcaOPd+4P7mBigijSutrOZgaVVYu8HB84FhRJ9OYYlBJJZpBTORGOAbid0rDCPBQUuOirQ2JWuRGLArTHOsfdJTEklPSdCIcJFWomQtEgMKwrR6WaCeWdrXWqS1KFmLxICCojLizLP0Z7hoX2uR1qNkLRIDdhWVcUJGCgnx4fuVzslKoaBYyVqkNShZi8SAXQfDtyCKT05WKkWlVRypqA5rHCKxSMlaJAYUFJeFZU3wQL4R4bvVuhZpcUrWIlGuptbxeXF52FvWvmS9SyPCRVqckrVIlNtXUkFVjQt7ss7RXGuRVqNkLRLlfPtI9wzTuuA+3dKTiY8zdmn6lkiLU7IWiXKRMMcaICE+jhMyUtSyFmkFStYiUc7Xkg13svbEkOJv6YtIy1GyFolyBUVlpKckkJGSGO5Q6JmVqrnWIq1AyVokyu0qKvePxA63nKxUPi8up6bWhTsUkZiiZC0S5QqKwr8gik9OVipVNY59JRXhDkUkpihZi0S5guIycsI8EtzH18LXhh4iLUvJWiSKHamopqi0KqJa1qC51iItTclaJIoV+OdYR0qy9rTwlaxFWpaStUgU2xVhyTo9JZGMlAQla5EWpmQtEsUKvOtwR0o3OHhi0frgIi1LyVokihUUlREfZ3RLTw53KH49s1K1MIpIC1OyFoliBUVldE9PJiE+cn6Ve2SlaJtMkRYWOb/hItJkBcVl9IigLnCAHpmpFJVWUVZZE+5QRGKGkrVIFNtdXE6PzMiYY+3jHxGu1rVIi1GyFolSzjl2F5dH1OAy8LSsAXZrkJlIi1GyFolS+49UUlldG3kta2+yVstapOUoWYtEKV/L1deSjRTdMz0j09WyFmk5StYiUcrXco2UdcF9khPi6ZKWrBHhIi0opGRtZtPM7GMz22RmdwQ5PsfMNpjZWjN73cz6BhyrMbPV3n8LWzJ4kfZst3cuc6S1rMHzAaKgWC1rkZaS0FgBM4sHHgMmAzuB5Wa20Dm3IaDYKmCUc67UzK4HfgFc6j1W5pzLb+G4Rdq93cXlJMXH0bljUrhDqadHZgpbCo+EOwyRmBFKy3oMsMk5t8U5Vwk8B1wYWMA596ZzrtT78D2gV8uGKSJ1FRSXc0JmCnFxFu5Q6umRmcputaxFWkwoybonsCPg8U7vc8fyDeCfAY9TzGyFmb1nZhcFO8HMrvWWWVFYWBhCSCKyu6gs4kaC++RkpVBSUc2h8qpwhyISE0JJ1sE+trugBc2+BowCfhnwdB/n3CjgCuBhM+tfrzLn/uCcG+WcG9W1a9cQQhKRSJxj7aO51iItK5RkvRPoHfC4F1BQt5CZnQ3cCVzgnKvwPe+cK/D+vwVYAgw/jnhFBKipdXx+KPJWL/PRKmYiLSuUZL0cGGBm/cwsCbgMOGpUt5kNB36PJ1HvDXi+k5kle7/uAowHAgemiUgzFB6uoKbWRdy64D5qWYu0rEZHgzvnqs3sRuBfQDzwpHNuvZndA6xwzi3E0+2dBjxvZgDbnXMXAKcAvzezWjwfDB6oM4pcRJrBP8c6QlvW3dKTiTM011qkhTSarAGcc4uARXWeuyvg67OPcd5SYMjxBCgi9UXq6mU+CfFxdM9IoUAta5EWoRXMRKLQ7ghdvSxQj0ztay3SUpSsRaLQ7uJyUhPjyUxNDHcox9QjS3OtRVqKkrVIFNpdXEaPrBS8Y0QiUo+MFAqKynAu6ExPEWkCJWuRKFRQVO7fijJS9chKpaK6loOlWhhF5HgpWYtEod3Fkbt6mY9vpHpBke5bixwvJWuRKFNVU8vewxURO8faxxef7luLHD8la5Eos+dQOc5F7hxrH198GhEucvyUrEWijK+lGukt6y5pySTGm+Zai7QAJWuRKOO7BxzpLeu4OKN7huZai7QEJWuRKBMtLWuAnMxUrQ8u0gKUrEWizO6iMtJTEkhLDmm14LDqkZWinbdEWoCStUiUKSiO/DnWPj0yU9lzqJzaWi2MInI8lKxFooxv9bJokJOVQlWNY19JReOFReSYlKxFoszuovKI3W2rLl+cBZprLXJclKxFokh5VQ37j1RG/EhwH98qa7u1ipnIcVGyFokin0fRSHCAnCy1rEVagpK1SBTxjayOlpZ1pw6JJCfEqWUtcpyUrEWiiG/OcrS0rM2MHO1rLXLclKxFoohvNbBI33ErUI9MzbUWOV5K1iJRpKC4nOyOSaQkxoc7lJD10CpmIsdNyVokiuwuivx9rOvqmZXC3sPlVNXUhjsUkailZC0SRQqKyukZJferfXKyUql1nq09RaR5lKxFooRzjl1FZf7pUNHCF++ug7pvLdJcStYiUeJQeTUlFdVR2bIGNMhM5DgoWYtECd8+1j07RVey9n24KNAgM5FmU7IWiRK+ZB1t3eCpSfFkd0xilxZGEWk2JWuRKPFFso6u0eDgiblAyVqk2ZSsRaLEzqIykuLj6NIxOdyhNFlOZqoGmIkch5CStZlNM7OPzWyTmd0R5PgcM9tgZmvN7HUz6xtwbKaZfer9N7MlgxdpTwqKyumRlUJcnIU7lCbr2SmVgqIynHPhDkUkKjWarM0sHngMOAcYBFxuZoPqFFsFjHLODQUWAL/wnpsN3A2MBcYAd5tZp5YLX6T9KCgqi7qR4D49s1I5UlnDobLqcIciEpVCaVmPATY557Y45yqB54ALAws45950zpV6H74H9PJ+PRX4t3PugHPuIPBvYFrLhC7SvhRE4RxrH/9ca923FmmWUJJ1T2BHwOOd3ueO5RvAP5tyrplda2YrzGxFYWFhCCGJtC9VNbXsOVQe9clag8xaz8SJnn8Sm0JJ1sFukAW98WRmXwNGAb9syrnOuT8450Y550Z17do1hJBE2pfPi8updZ51tqORbwS7WtYizRNKst4J9A543AsoqFvIzM4G7gQucM5VNOVcEWlYtM6x9unSMZmkhDi1rEWaKZRkvRwYYGb9zCwJuAxYGFjAzIYDv8eTqPcGHPoXMMXMOnkHlk3xPiciTeBbqjNaB5jFxRk5mSlqWYs0U0JjBZxz1WZ2I54kGw886Zxbb2b3ACuccwvxdHunAc+bGcB259wFzrkDZnYvnoQPcI9z7kCrvBKRGOZbqjNaW9bgiV0ta5HmaTRZAzjnFgGL6jx3V8DXZzdw7pPAk80NUERg58EyOndMIiUxPtyhNFtOVipvf6oBpCLNoRXMRKJANE/b8umZlcrewxVUVteGOxSRqKNkLRIFPMk6OkeC+/TMSsU52HNIu2+JNJWStUiEc87FRMtaC6OINJ+StUiEO1RWzZHKmqgdCe7j6xnQIDORplOyFolwO4s8K/lGf7L2tqy1+5ZIkylZi0S4WJi2BZCSGE+XtCT/nHERCZ2StUiEi/bVywLlZKWyq0gDzESaSslaJMIVFJWRlBBH545J4Q7luOVkamEUkeZQshaJcLu8+1jHxQXbFye6+FYxcy7oXkAicgxK1iIRblcMzLH26dkpldLKGopKq8IdikhUUbIWiXAFRWXkZEb//Wr4YotPzbUWaRola5EIVlldy97DFTExuAy+GCSn+9YiTaNkLRLB9hwqx7non2Pto2Qt0jxK1iIRzNdd3LNTbCTrzh2TSE6Io6BY07dEmkLJWiSC+Vb7ipVucDOjZ1aqVjETaSIla5EI5usu7pEZG6PBwbcwipK1SFMoWYtEsILiMrqkJZGSGB/uUFpMTlaK7lmLNJGStUgE21VUHjNd4D45WansPVxBRXVNuEMRiRpK1iIRbOeBUnp36hDuMFqU7/UUaI1wkZApWYtEqJpax86DZfTKjq2Wde9sT7LefqA0zJGIRA8la5EItedQOZU1tfTJjq2WdR8la5EmU7IWiVC+ZBZrybpbejJJCXHsULIWCZmStUiE2hGjyTouzujdKVXJWqQJlKxFItSOA6XEWewsiBKod3YHdYOLNIGStUiE2n6glB6ZqSTGx96vaR8la5Emib2/AiIxYsfBspjrAvfpk92Bw+XVFGtfa5GQKFmLRKjtB0pjNllr+pZI0yhZi0SgssoaCg9X0DvG5lj7+BZGUbIWCU1IydrMppnZx2a2yczuCHL8DDP7wMyqzeySOsdqzGy199/ClgpcJJbtOOhJYr1jtmXt+RCiZC0SmoTGCphZPPAYMBnYCSw3s4XOuQ0BxbYDs4Bbg1RR5pzLb4FYRdqNWJ225ZOekkh2xyT/hxIRaVijyRoYA2xyzm0BMLPngAsBf7J2zm31HqtthRhF2p1YXRAlUO/sDpprLRKiULrBewI7Ah7v9D4XqhQzW2Fm75nZRcEKmNm13jIrCgsLm1C1SGzafqCUDknxZHdMCncoraZ3p1R1g4uEKJRkbUGec024Rh/n3CjgCuBhM+tfrzLn/uCcG+WcG9W1a9cmVC0Sm3Z4R4KbBfv1iw19sjuw62AZNbVN+XMi0j6Fkqx3Ar0DHvcCCkK9gHOuwPv/FmAJMLwJ8Ym0SzsOlMXs4DKfPtkdqK517C4uC3coIhEvlGS9HBhgZv3MLAm4DAhpVLeZdTKzZO/XXYDxBNzrFpH6nHNsj8F9rOvSXGuR0DWarJ1z1cCNwL+Aj4C/OefWm9k9ZnYBgJmNNrOdwAzg92a23nv6KcAKM1sDvAk8UGcUuYjUsa+kkrKqGvrE6BxrH9/gOQ0yE2lcKKPBcc4tAhbVee6ugK+X4+ker3veUmDIccYo0q74pjP16RzbLesemSnExxk7DqgbXKQxWsFMJMLE+hxrn4T4OHpmaUS4SCiUrEUizPb9nuTVK8bvWYNnJTMla5HGKVmLRJjtB0rplp5MSmJ8uENpdX20MIpISJSsRSLMjoOxu9tWXb2zO7D/SCVHKqrDHYpIRFOyFokwOw7E7j7WdflHhGuNcJEGKVmLRJDK6loKisvo1U6StX+rzP1K1iINUbIWiSC7ispwLvZHgvv00cIoIiFRshaJIO1l2pZPVodE0pMT2HlQc61FGqJkLRJB2sPWmIHMjN7ZHdSyFmmEkrVIBNlxoJSkhDi6pSeHO5Q2o7nWIo1TshaJINsPlNKrUypxcbG7NWZdvrnWzmmrTJFjUbIWiSA7Dsb+blt19cnuQEV1LXsPV4Q7FJGIpWQtEiGcc3xWeIR+XTqGO5Q2let9vZ/tOxLmSEQil5K1SIT4/FA5Rypr6N8tLdyhtKn+XT2vd3NhSZgjEYlcStYiEWLzXk/Lsn/X9tWyPiEjhQ5J8f7XLyL1KVmLRAhfy/JLXdtXyzouzjixa0e1rEUaoGQtEiE2F5aQnpxA13Y0bcunf9c0Nu1VshY5FiVrkQixubCEE7ulYdZ+pm359O+axq6iMsoqa8IdikhEUrIWiRCb9x5pd/erfXyDzLbsU+taJBgla5EIUFJRzeeHyv1Jq73p383zIWVzoQaZiQSjZC0SAbZ4B1e112Sd27kjZrBZ961FglKyFokA/pHg3dpnN3hKYjy9O3XQiHCRY1CyFokAm/ceIT7O6JPdPpM1eOaXqxtcJDgla5EIsLmwhL7ZHUhKaL+/kv27prGlsITaWm3oIVJX+/3LIBJBNheWcGI7vV/t079bGhXVtewqKgt3KCIRR8laJMyqa2rZuq/UPyK6vdIa4SLHpmQtEmY7D5ZRWVPbbkeC+/jmmOu+tUh9StYiYba5nU/b8snumERWh0S1rEWCCClZm9k0M/vYzDaZ2R1Bjp9hZh+YWbWZXVLn2Ewz+9T7b2ZLBS4SK75I1u27G9zM6N81TXOtRYJoNFmbWTzwGHAOMAi43MwG1Sm2HZgFPFvn3GzgbmAsMAa428w6HX/YIrFj894jdElLIqtDUrhDCTtN3xIJLpSW9Rhgk3Nui3OuEngOuDCwgHNuq3NuLVBb59ypwL+dcweccweBfwPTWiBukZixSSPB/fp3TWNfSQXFpVXhDkUkooSSrHsCOwIe7/Q+F4rjOVck5jnn2LS3pN3fr/bxjwjXhh4iRwklWQfbry/UVQtCOtfMrjWzFWa2orCwMMSqRaLfgSOVFJdVtfv71T79u3mTte5bixwllGS9E+gd8LgXUBBi/SGd65z7g3NulHNuVNeuXUOsWiT6+e7P+pJUe9e7UyqJ8ab71iJ1hJKslwMDzKyfmSUBlwELQ6z/X8AUM+vkHVg2xfuciBCwgYe6wQFIiI8jt3NHTd8SqaPRZO2cqwZuxJNkPwL+5pxbb2b3mNkFAGY22sx2AjOA35vZeu+5B4B78ST85cA93udEBE93b3JCHDlZqeEOJWL075qmZC1SR0IohZxzi4BFdZ67K+Dr5Xi6uIOd+yTw5HHEKBKzNheW0K9LR+Ljgg3vaJ/6d+vI4o/2UFVTS2K81m0SAa1gJhJWmwuP6H51Hf27plFd69i2X/etRXyUrEXCpKSimh0HSzmpW3q4Q4koJ3X3vB8bPz8c5khEIoeStUiYzkrr1AAAHfFJREFUbCg4hHOQ1zMj3KFElAHd00iMN9btOhTuUEQihpK1SJis21UMwJCemWGOJLIkJ8Qz8IR01hcUhzsUkYihZC0SJusKiumanky3jJRwhxJx8nIy+XBXMc6Fuv6SSGxTshYJk3W7isnLURd4MIN7ZlJUWsWuorJwhyISEZSsRcKgrLKGTXtL1AV+DL73RfetRTyUrEXC4KPPD1HrPC1Iqe/kE9KJjzPdtxbxUrIWCYP13sFleUrWQaUkxjOgWxof7lKyFgEla5Gw+HBXMdkdk8jJ1OCyYxmck8k6DTITAZSsRcJi3a5DDM7JwEzLjB7LkJ4Z7CupZO/hinCHIhJ2StYibayiuoZP9hxWF3gjfO/PhzvVFS6iZC3Sxj75vITqWqeR4I04pUcGZp756CLtnZK1SBvzDZrKy1GybkjH5ARO7NJR07dEULIWaXPrCorJSEmgd7b2sG7MkJ6Z/mVZRdozJWuRNrZ+VzF5PTM1uCwEeT0z+fxQOYUaZCbtnJK1SBuqqqnlo881uCxUg723CrQ4irR3StYibejTPSVUVtcyWGuCh2Swd/tQdYVLe6dkLdKGfCObNRI8NBkpieR27qBBZtLuKVmLtKH1u4rpmBRPbueO4Q4lagzumanpW9LuKVmLtKEPdxUzOCeTuDgNLgtVXk4mOw+WcfBIZbhDEQkbJWuRNlJdU8tHuzW4rKn822WqdS3tmJK1SBtZV3CIsqoa8vtkhTuUqDK0dyZxBss/OxDuUETCRslapI28u2kfAKf17xzmSKJLRkoiQ3pl8e7m/eEORSRslKxF2siyzfs5+YR0uqQlhzuUqHNa/86s2VFESUV1uEMRCQsla5E2UF5Vw/KtBzitf5dwhxKVxvfvQnWtU1e4tFtK1iJtYNX2Iiqqa9UF3kwj+3YiKT6OpZv3hTsUkbBQshZpA0s37yM+zhh7Yna4Q4lKqUnxjOibxbubdN9a2qeQkrWZTTOzj81sk5ndEeR4spnN9x7/r5nlep/PNbMyM1vt/fe7lg1fJDq8u2kfQ3pmkp6SGO5Qotb4/l3YsPsQBzTfWtqhRpO1mcUDjwHnAIOAy81sUJ1i3wAOOue+BPwa+HnAsc3OuXzvv+taKG6RqFFSUc2ancWM/5K6wI/Had73770tal1L+xNKy3oMsMk5t8U5Vwk8B1xYp8yFwFPerxcAZ5n2/xMB4P3P9lNT6zS47DgN7ZVFx6R4/xQ4kfYklGTdE9gR8Hin97mgZZxz1UAx4GtG9DOzVWb2HzObcJzxikSddzftJykhjpF9O4U7lKiWGB/HmH7ZLNV8a2mHQknWwVrI7v+3d+ZxVlTXvv/+egKamQaVQRQQ9KpREBxQYzR61Zg4xjFxSkx85ukzJs9Pbnzm+oy59/M0iRnURC9GLmoSpzgE0TjECRRRkUEmQWhQGURmZLa71/tj75bicE73AU73KbrX9/M5n1O1aw9r1d5Vq/auXXvlGWcJ0NfMhgA/Bv4qaTvfgJKulDRR0sRly5blIZLj7D6Mn7eCoX270ra8tNii7PYcs1935i9fz+LVG4stiuM0K/kY64XA3on9PsDiXHEklQGdgZVmttnMVgCY2bvAPGBQZgFmNsLMhpnZsB49euy4Fo6TUlas28ysJWv9fXWBqH+V4L1rp7WRj7F+BxgoqZ+kCuBCYHRGnNHAZXH7XOBlMzNJPeIENST1BwYC1YUR3XHSz4TqsIjH0fv5++pCcMBeHenWvsK/t3ZaHWWNRTCzGknXAM8DpcBIM5sh6RZgopmNBu4DHpQ0F1hJMOgAxwG3SKoBaoGrzMyXIHJaDW/MW06HNmUc4p62CkJJiRjev4rxc1dgZvg8Vqe10KixBjCzZ4FnM8JuSmxvAs7Lku5x4PFdlNFxdlvGz13Okf26UVbq6w8ViqP3q+KZaUuoXr6eAT06FFscx2kW/A7iOE3Exys3sGDFBob7EqMFpf699bg5PhnVaT24sXacJmL01DAP85SD9iqyJC2LfasqGbRnhy/Or+O0BtxYO04TYGY8MWkhR+zbjb27VRZbnBaFJM4e0odJH61mwfL1xRbHcZoFN9aO0wRMW7SGecvWc/ZhmesHOYXgrCG9kODJyYuKLYrjNAturB2nCXhi0iIqSks47eCexRalRdKzczuG96/iqSmLMMtco8lxWh5urB2nwHxeW8fTUxdz4r/sQedK97LVVJw9pDcfrtjApI9WF1sUx2ly3Fg7ToF5/YPlrFi/hbOH+BB4U3LqwXvRpqyEJycvLLYojtPkuLF2nALzxORFdK0s5/j99yi2KC2ajm3LOfmgvRjz3hK21NQVWxzHaVLcWDtOAfls0+e8MOMTvnFILyrK/PJqas4Z0pvVGz7nldmfFlsUx2lS/G7iOAXkuemfsLmmjrN8CLxZ+PLA7nTvUMFTPivcaeG4sXacAvLk5EXsW1XJYX27FFuUVkFZaQmnH9qLl2Z9ypoNnxdbHMdpMtxYO06BWLR6I29Wr+CsIb3dwUQzcs6QPmyprePp93xFM6fl4sbacQrEH16ZS1mJOHdon2KL0qo4uHcnvtS7M/e8Ns8nmjktFjfWjlMA5i9fzyPvfMy3juhLn66+vGhzIonrT9mfhas28tDbHxVbHMdpEtxYO04BuP2F2bQpK+Garw4stiitkuMGdueo/t248+UPWL+5ptjiOE7BcWPtOLvI9EVrGPPeEq44th89OrYptjitEkn85NQDWL5uCyNfn19scRyn4Lixdpxd5JfPz6ZLZTnfP65/sUVp1RzWtysnH7gnI8ZWs3L9lmKL4zgFxY214+wC4+ctZ+ycZVx9/H50auvrgBeb60/Zn/Vbarj71bnFFsVxCooba8fZScyMXz43m706teWS4fsUWxwHGLRnR84e0of73/yQxas3FlscxykYbqwdZyf527sLmfLxaq47aSBty0uLLY4Tue6kgWDwizEz3X2m02JwY+04O8HUj1dz41PTObJfN/+uOmXs3a2SH/3rIP4x/RPufm1escVxnILgxtpxdpBP127iygcn0qNDG+6+eChlpX4ZpY2rvtKf0w/txa+en81Ls5YWWxzH2WX8LuM4O8Dmmlr+x5/fZe3GGu69dBjd2lcUWyQnC5L45TcP4aBenfjhw1OY++lnxRbJcXYJN9aOkydmxs+enM7kj1bzm/MP5cBenYotktMA7SpK+a9LhtG2vITvP/CuO/pwdmvcWDtOHnxeW8cvxszisXcXcu1X9+NrX+pZbJGcPOjdpR13XzyUhas28J1Rb7N07aZii+Q4O4Uba8dphE/WbOKiERMY+cZ8Lhu+D9edNKjYIjk7wOH7duP3Fw5h1pLP+Pod43hj7vJii+Q4O4wba8dpgNc/WM7X7xjHzCVrueOiIfz8zIMpKXH3l7sbp32pJ6OvOYYulRVcct9b3PnSB9TV+Wddzu6DG2vHyUL1snX8nyenccnIt+jWvoLR1xzDGYf2KrZYzi4wcM+O/P3qYzj90F7c/uIcLrx3AmPnLPNvsZ3dgrJiC+A4aWLigpWMGFvNi7OWUl5awsVH7sMNpx1AZYVfKi2B9m3K+N0FgzmqfxW/fXEOl458mwP26siVx/XnG4f0oqLM+y9OOsnrDiTpVOD3QCnwJzO7NeN4G+ABYCiwArjAzBbEYzcAVwC1wLVm9nzBpHecXWTFus1MqF7J+HnLeXPeCqqXr6dLZTnXnLAflw7f171otUAkcdERfTnnsN6MnrKYe8dV8+NHp/KLMTMZPqCK4QO6c/SAKvp3b4/krzycdNCosZZUCvwB+FdgIfCOpNFmNjMR7QpglZntJ+lC4DbgAkkHAhcCBwG9gH9KGmRmtYVWxHGS1NUZm2pqWbuxhlUbtrB6w+es3rCFxWs28eGK9SxYsYEFy9fz0coNALSvKOXI/lV859h+fPOw3t6TbgW0KSvlvGF7c+7QPrw6ZxlPT13Mm/NW8Oy0TwCoal9B/x7t2aeqPftWVbJ3t0q6VlbQtbKCLpXldK4sp115KeW+KI7TDORzRzoCmGtm1QCSHgbOBJLG+kzg5rj9N+AuhUfSM4GHzWwzMF/S3Jjfm4URv2Hq6oxv3jOemTNmNh7ZKTpfvDlU5kb8j70cQ3FbmEpAJVv/S8qoKymDktxNWzWbKN+0mrJNq+iyYRlt135Em/VLqR5bRzVwX8E1202YMiX8H398UcUoJhVA7zZd2NS5L5s79OS9JV2Z1LYLtRUdcyeqq0V1NeFndchqwQxRB1YXG7YhDL54P57xH/92pR+/ft/wv//Vu5CJkzcP/O9zOLJ/VbOVl4+x7g18nNhfCByZK46Z1UhaA1TF8AkZaXtnFiDpSuBKgL59++Yre150aFOGajcXNE+nadA228mbWOLGZhbimQGGLNwQv/ivq0FWQ0ltuHmW1G6mpGYjJTWbKK3ZSOmWzyip2bRLN8UWy+DBxZag6Ago37ya8k9X0/HT974Iryspp6aiI3Xl7agra0dtWVvqytpiJeVYSdnWh8Tkg6NKQo7SNg+YX5QUN61ArbFD27jh45bNQllp895F8jHW2STKnD6ZK04+aTGzEcAIgGHDhhVsamZJiXjwiiPhisxnC8dxHMfZfcjnZctCYO/Efh9gca44ksqAzsDKPNM6juM4jtMA+Rjrd4CBkvpJqiBMGBudEWc0cFncPhd42cLHi6OBCyW1kdQPGAi8XRjRHcdxHKd10OgweHwHfQ3wPOHTrZFmNkPSLcBEMxtNmJPzYJxAtpJg0InxHiVMRqsBrvaZ4I7jOI6zYyhtq/cMGzbMJk6cWGwxHMdxHKfZkPSumQ3Lddw/EHQcx3GclOPG2nEcx3FSjhtrx3Ecx0k5bqwdx3EcJ+W4sXYcx3GclOPG2nEcx3FSjhtrx3Ecx0k5bqwdx3EcJ+W4sXYcx3GclJO6FcwkLQM+LFLx3YHlRSq70LQUXVqKHuC6pJWWoktL0QNapy77mFmPXAdTZ6yLiaSJDS33tjvRUnRpKXqA65JWWoouLUUPcF2y4cPgjuM4jpNy3Fg7juM4TspxY70tI4otQAFpKbq0FD3AdUkrLUWXlqIHuC7b4e+sHcdxHCfleM/acRzHcVJOqzDWkvaXNCXxWyvpOkm/kvS+pPckPSmpS470CyRNi2knNrf8CTly6XGzpEWJ8NNypD9V0mxJcyX9tLnlz5Ally6PJMIWSJqSI30q6iQhz48kzZA0XdJDktpK6ifpLUkfRL0qcqS9IdbJbEmnNLfsGbJk0+MvUbbpkkZKKs+RtjZRd6ObW/Ys8mTTZZSk+Qk5B+dIe1mstw8kXdbcsmeRJ5su4xJ6LJb0VI60aauXH0Y9Zki6LoZ1k/RiPN8vSuqaI21q6iWHHk1nU8ysVf2AUuATYB/gZKAsht8G3JYjzQKge7Flb0CPm4Hr84g/D+gPVABTgQOLrUemLhnhtwM3pb1OgN7AfKBd3H8UuDz+XxjD7gF+kCXtgbEu2gD9Yh2VpkyP0wDF30PZ9Ijx1xW7LvLQZRRwbiNpuwHV8b9r3O6aNl0y4jwOXLob1MvBwHSgEigD/gkMBH4J/DTG+Wm2e3Ga6qUBPZrMprSKnnUGJwLzzOxDM3vBzGpi+ASgTxHl2lG+0CPP+EcAc82s2sy2AA8DZzaZdDvGdrpIEnA+wTjsDpQB7SSVES7gJcBXgb/F4/cDZ2VJdybwsJltNrP5wFxCXRWLTD0Wm9mzFgHeZve5TrbTJc90pwAvmtlKM1sFvAic2kQy5ktOXSR1JLS1rD3rlPEvwAQz2xDvva8BZxOug/tjnFzXSprqJaseTWlTWqOxvpDsBuC7wD9ypDHgBUnvSrqyySTbMTL1uCYOvYzMMYTUG/g4sb8whqWBbHXyZWCpmX2QI01q6sTMFgG/Bj4iGOk1wLvA6sSFm+t8p6ZesulhZi/UH4/D35cAz+XIoq2kiZImSMp2s202GtHlP+O18ltJbbIkT02dQOP1QjB2L5nZ2hxZpKZeCL3R4yRVSaokjNrsDexpZksA4v8eWdKmqV5y6ZGkoDalVRnr+M7wDOCxjPAbgRrgLzmSHmNmhwFfA66WdFyTCtoIWfS4GxgADCZczLdnS5YlrOifAuSqE+AiGu5Vp6ZO4sPRmYRh7F5A+yhXJtnOd2rqJZseki5ORPkjMNbMxuXIoq+FlZq+BfxO0oAmFbgBGtDlBuAA4HDCcOq/ZUueJaxo10oe9dLYtZKaejGzWYTh4RcJD31TCffefEhNvTSmR1PYlFZlrAknZpKZLa0PiJMUvgF8Ow7zbYeZLY7/nwJPUtxhSsjQw8yWmlmtmdUB95JdvoVs++TXh/yHBZuSbHVSBpwDPJIrUcrq5CRgvpktM7PPgSeAo4EuURfIfb7TVC+59EDS/wV6AD/OlThRJ9XAq8CQpha4AbLqYmZL4oj+ZuC/2T2ulYbqpYqgwzO5EqesXjCz+8zsMDM7DlgJfAAsldQTIP5/miVpquolhx5NZlNam7He5glU0qmEJ+szzGxDtgSS2sd3QkhqT5hAML0ZZG2ITD16Jo6dTXb53gEGKsxQriAMPRd9ZijZewUnAe+b2cJsCVJYJx8BR0mqjO/aTwRmAq8A58Y4lwF/z5J2NHChpDaS+hEmqbzdDDJnI5sesyR9j/C+8KL4QLgdkrrWDylL6g4cQzgHxSKXLvUGQYT3otnazfPAyVGnroT29XwzyZ2NrLrEY+cBY8xsU7aEKawXJO0R//sSHsofIlwH9bO7c10rqaqXbHo0qU3Z1Vlxu8uPMCljBdA5ETaX8A5kSvzdE8N7Ac/G7f6EIY6pwAzgxhTq8SAwDXiP0Oh7ZuoR908D5hBmHBdVj1y6xPBRwFUZYamtkyjTz4H340X3IGF2d3+C4Z1LGOZvE+OeAdySSHtjrJPZwNdSqEdNlK/+Orkpxh0G/CluHx3b4NT4f0VK6+TlKN904M9Ah0xd4v53Y73NBb6TRl1i+KvAqRlx014v4wgPDFOBE2NYFfASoXf6EtAt7fWSQ48msym+gpnjOI7jpJzWNgzuOI7jOLsdbqwdx3EcJ+W4sXYcx3GclOPG2nEcx3FSjhtrx3Ecx0k5bqxbINrqZWe6pMficniFyPcqSZfG7VclDcsS53JJdxWivLSh4N3s+h1Mc4aa0MOZpGslzZL0l4zwKkmvSFqXWR+ShkaPP3Ml3RG/3c3b81GB5d9X0k5/I6/gqW2X23f8zv2f8bq5YFfza6SsdQXK53JJvQqRl5N+3Fi3TDaa2WAzOxjYAlxViEzN7B4ze6AQebUGJJWZ2Wgzu7UJi/mfwGlm9u2M8E3AvwPZHi7uBq4kLMAykK3OEH5KWGN6IOFb151+yJBUurNpd5DrCN/r7ypDgPJ43Wyzcl4z6rKjXE74ftdpBbixbvmMA/YDkPTj2Nuerq3+V9tLekbS1Bh+QQy/VdJMBYcHv45hmT3LiyWNj+m2Wy5PUg9Jj0t6J/6OyRLncklPSXpawc/wNVHOyQqOB7rFeAMkPaew8P04SQfE8NMVfEZPjj2jPROyjowjANWSrs1SdqmCf+Ppsaf5oxj+/Sjv1Cj/dsYgV5yY328kvQLclhxpyHU+JH1FW/0NT65f3SijvGx1dw9hgYXR9bLXY2brzex1gtFO5tMT6GRmb1pYZOEBtno4atTzkcIqWo/GdvFIPPfD4rF1km6R9BYwXNJNUc/pkkYkevBD43l7E7g6oy3cldgfI+n4uH23gjOKGZJ+HsOuJRirV+L5RtLJkt6UNElhVKlDDN+uPSfK2YOwQMrgWAcDFPwN3yTpdeA8SYNje6z3U9w1pn1VwSHIWIURjsMlPaEwOvEfmecvUebtUcaXJPWIYbnK2C5c0rmEBUP+EmVuF8seH8/t25I6KoxcjItlTZJUv0zp8ZJei3U5J56fb8d00xTXD4/t+Z6YxxxJ34jhB8W4U6JcA3Pp6hSIYq9m478mWVlnXfwvIyzb9wNgKGEFo/ZAB8LKOUOAbwL3JtJ2Jjg4mA1fLJrTJf7fTPSbTVg56d64fRwwPW5fDtwVt/8KHBu3+wKzssh6OWHVn46EtafXEFcvA34LXBe3XwIGxu0jgZfjdteEnN8Dbk/IOp6walV3wkpp5RllDyW43CNDz6pE2H8A/yuL/rnijALGEH1S53M+gKcJC/sT66Ysi5zb1V08toAG/OImy4/7w4B/Jva/TFiuEoKXsGTaVVnyux74r7h9MGF1s2Fx34DzE3G7JbYfBE6P2+8BX4nbv8rWduL+GOD4ZF4E3+evAodk6h/reSzQPu7/G3ATOdpzhl7H15+HRL4/SewnZb4F+F3iOrgtbv+QsFZ1T0K7W5hsJ4m8jLBuNFG+uxopo6Gy6899BcG/8+FxvxPh+q8E2sawgcDEhL6rE7IuAn6e0KO+jFEERxUlMf1CoC1wZ0KHCqKvbf813a/eyYDTsmgnaUrcHgfcRzDYT5rZegBJTxBu1M8Bv5Z0G+FmNU7B+cQm4E+SniHcNLPxEICZjZXUSVKXjOMnAQfGDhVAJ0kdzeyzjHivxLDPJK0hGC8IBuqQ2Ds6GngskVe9a8M+wCOxx1gBzE/k+4wFhw2bJX0K7Em42dRTDfSXdCfBEUK928GDY6+oC8E4Zlt/uKE4j5lZbZY0Wc8H8AbwG4X3zk/Y9muiH0v2upucpYzG2FXPRccCvwcws+mS3kscqwUeT+yfIOknBIPRDZghaSzBWL4W4zxIdg9lmZyv4EqwjGBgDiQYsSRHxfA34jmuAN4E1pJfe87kEQBJnTNkvp9tvcTVr7E/DZhh0dWjpGqC44kVGfnWsdVJzZ+BJ3KVkUfZ9ewPLDGzdwAsustUWHv6LkmDCfUzKJHmnYSs89ja/qcBJyTiPWphTfgPok4HEM7rjZL6ENpsLle2ToFwY90y2Whmg5MBSliIJGY2R9JQwrrh/0/SC2Z2i8Kw9okEhx/XEJzbb5e8kf0SYLiZbWxE3s2J7brEfh2hjZYQen2DMxMSnvB/Y2aj45DpzTnyrSWjvZvZKkmHEpxUXA2cT1h7eBRwlplNlXQ5oReSSUNx1mfVMvf5uDUakdOACZJOMrP3E8ez1t1OspDwgFNP0nPRUkk9zWyJcns+akiWTfUPKZLaElxqDjOzjyXdTOiRidwPBzVs+2qubcyrH6FHf3iss1H1x7LI9qKZXbTdgfzacya56jGTZHvNbMv53GMLseZzrvP6I2ApcCjh3CZfizR23eWSz8zsrwqvO74OPC/pe2b28i7I7zSCv7NuPYwFzlJ459ie4J1rnMJs0g1m9meCg/vDYk+2s5k9S5jAk81IAtS/3z4WWGNmazKOv0C4MRLj5cqnQWIvYb6k82I+ikYWwrD9orh9Wbb0uVDwQlRiZo8TJmMdFg91BJZIKgcyJ26xA3EyyXo+JA0ws2lmdhswkdBzSZK17vIscxtiT+ozSUfFB7hL2erhKB/PR68THmqQdCDwpRxF1RvT5bE9nRvLXw2siW0Gtj13CwjvjUsk7c1Wt4GdCIZzjcKchGRP/DNCXQBMAI6RVD9Ho1LSoB1oz1mJ7XqVpC/HoEuA1xpI0hglbPXG9i3g9VxlNFJ2Uvf3gV6SDgeI76vLCNfHktgzvoTwGmFHOS/WyQDCHInZkvoD1WZ2B6HdHLIT+To7gPesWwlmNin2SOrdL/7JzCZLOgX4laQ64HPCcHlH4O+xdyTC03k2VkkaT7iZfjfL8WuBP8Sh0jKC0dnZmenfBu6W9DOgHHiY4LXmZsJw4SLCzbrfDuTZG/hvSfUPrTfE/38H3gI+JAwJbjfhK884meQ6H9dJOoHQ+58J/COZKFfdNVaYpAWEuqmQdBZwspnNJNTxKKBdLKu+vFuBRyVdQXDLeF6WbP8I3B91mEwYis58SMPMVku6l3BuFhBctNbzHWCkpA1s+/rgDcJrjHqvWJNiXlMlTSa8q6+O8eoZAfxD0hIzOyGOcjyk6BYS+BnBqOXTnhviMuAehYmE1VGHnWU9cJCkdwnnrv5TsVxl5AofFcM3AsNjPndKagdsJLx2+SPweHzQfYX8RwuSzCY8IOxJmE+ySWEi6sWSPgc+IbxLd5oQ97rlOE7eKHzGVB5v2AMIE/8GmdmWIovmNAHxIXGMmf2t2LK0drxn7TjOjlBJ+FSqnNBL/YEbasdperxn7TiO4zgpxyeYOY7jOE7KcWPtOI7jOCnHjbXjOI7jpBw31o7jOI6TctxYO47jOE7KcWPtOI7jOCnn/wNdE5RqtGMtHAAAAABJRU5ErkJggg==\n",
>>>>>>> ab8748da2d0978392e2241936ac98b3a6c8f26df
      "text/plain": [
       "<Figure size 576x432 with 1 Axes>"
      ]
     },
     "metadata": {
      "needs_background": "light"
     },
     "output_type": "display_data"
    }
   ],
   "source": [
    "plt.figure(figsize=(8, 6))\n",
    "xsample = np.linspace(72, 92, 100)\n",
    "ysample = stats.norm.pdf(xsample, loc=mu,\n",
    "                         scale=std_error)\n",
    "\n",
    "plt.plot(xsample, ysample)\n",
    "plt.vlines(x=mu, ymin=0, ymax=stats.norm.pdf(mu,\n",
    "                                             loc=mu, scale=std_error),\n",
    "           label=\"The mean of the sampling\\nmean distribution\", color='red')\n",
    "\n",
    "plt.vlines(x=x_bar, ymin=0, ymax=.2,\n",
    "           label=\"Where our sample mean\\nlies under the null-hypothesis\", color='blue')\n",
    "\n",
    "plt.hlines(y=0, xmin=72, xmax=92, color='k')\n",
    "\n",
    "plt.xlabel('Possible mean salaries of 100 graduates from bootcamps')\n",
    "\n",
    "\n",
    "plt.title('Sample Distribution of the mean')\n",
    "plt.legend(loc='upper right')\n",
    "plt.show()"
   ]
  },
  {
   "cell_type": "markdown",
   "metadata": {},
   "source": [
    "Now let find p_value: What is the probability of x_bar = 84.68 and higher if the null-hypothesis is correct?"
   ]
  },
  {
   "cell_type": "markdown",
   "metadata": {},
   "source": [
    "To solve this problem we will calculate z_score: $\\large\\frac{\\bar{x} - \\mu}{se}$"
   ]
  },
  {
   "cell_type": "code",
<<<<<<< HEAD
   "execution_count": 10,
=======
   "execution_count": 38,
>>>>>>> ab8748da2d0978392e2241936ac98b3a6c8f26df
   "metadata": {},
   "outputs": [
    {
     "data": {
      "text/plain": [
<<<<<<< HEAD
       "-0.7253792422980183"
      ]
     },
     "execution_count": 10,
=======
       "5.557148942272349"
      ]
     },
     "execution_count": 38,
>>>>>>> ab8748da2d0978392e2241936ac98b3a6c8f26df
     "metadata": {},
     "output_type": "execute_result"
    }
   ],
   "source": [
    "z_score = (x_bar - mu) / std_error\n",
    "z_score"
   ]
  },
  {
   "cell_type": "code",
<<<<<<< HEAD
   "execution_count": 11,
=======
   "execution_count": 39,
>>>>>>> ab8748da2d0978392e2241936ac98b3a6c8f26df
   "metadata": {},
   "outputs": [],
   "source": [
    "std_norm = stats.norm(loc=0, scale=1)"
   ]
  },
  {
   "cell_type": "code",
<<<<<<< HEAD
   "execution_count": 12,
=======
   "execution_count": 40,
>>>>>>> ab8748da2d0978392e2241936ac98b3a6c8f26df
   "metadata": {},
   "outputs": [
    {
     "data": {
      "text/plain": [
<<<<<<< HEAD
       "0.7658902980137728"
      ]
     },
     "execution_count": 12,
=======
       "1.3710838020486449e-08"
      ]
     },
     "execution_count": 40,
>>>>>>> ab8748da2d0978392e2241936ac98b3a6c8f26df
     "metadata": {},
     "output_type": "execute_result"
    }
   ],
   "source": [
    "# p_value\n",
    "1 - std_norm.cdf(z_score)"
   ]
  },
  {
   "cell_type": "code",
   "execution_count": 41,
   "metadata": {},
   "outputs": [
    {
     "data": {
      "text/plain": [
       "1.3710837997041081e-08"
      ]
     },
     "execution_count": 41,
     "metadata": {},
     "output_type": "execute_result"
    }
   ],
   "source": [
    "# also:\n",
    "# sf = survival function = 1 - cdf\n",
    "std_norm.sf(z_score)"
   ]
  },
  {
   "cell_type": "markdown",
   "metadata": {},
   "source": [
    "$0.0826 !< \\alpha$ (0.05) therefore we can NOT reject the null_hypothesis. We can NOT accept the alternative explanation which is FS - DS graduates are on average having more salary"
   ]
  },
  {
   "cell_type": "code",
<<<<<<< HEAD
   "execution_count": 13,
=======
   "execution_count": 42,
>>>>>>> ab8748da2d0978392e2241936ac98b3a6c8f26df
   "metadata": {},
   "outputs": [
    {
     "data": {
      "text/plain": [
<<<<<<< HEAD
       "0.7658902980137728"
      ]
     },
     "execution_count": 13,
=======
       "1.3710837997041081e-08"
      ]
     },
     "execution_count": 42,
>>>>>>> ab8748da2d0978392e2241936ac98b3a6c8f26df
     "metadata": {},
     "output_type": "execute_result"
    }
   ],
   "source": [
    "# Another way of applying z-test in python is\n",
    "stats.norm(loc=mu, scale=std_error).sf(x_bar)"
   ]
  },
  {
   "cell_type": "markdown",
   "metadata": {},
   "source": [
    "## Another Example\n",
    "\n",
    "Let's work with the normal distribution, since it's so useful. Suppose we are told that African elephants have weights distributed normally around a mean of 9000 lbs., with a standard deviation of 900 lbs. Pachyderm Adventures has recently measured the weights of 25 African elephants in Gabon and has calculated their average weight at 8637 lbs. They claim that these statistics on the Gabonese elephants are significant. Let's find out!\n",
    "\n",
    "What is our null hypothesis here?"
   ]
  },
  {
   "cell_type": "code",
   "execution_count": null,
   "metadata": {},
   "outputs": [],
   "source": [
<<<<<<< HEAD
    "# there is no difference between all African elephants and Gabonese African elephants"
=======
    "# there's no difference between all African elephans and Gabonese African elephants"
>>>>>>> ab8748da2d0978392e2241936ac98b3a6c8f26df
   ]
  },
  {
   "cell_type": "markdown",
   "metadata": {},
   "source": [
    "What is our alternative hypothesis here?"
   ]
  },
  {
   "cell_type": "code",
   "execution_count": null,
   "metadata": {},
   "outputs": [],
   "source": [
<<<<<<< HEAD
    "# Gabonese African elephants have a different average weight than all African elephants"
=======
    "# Gabonese African Elephants have a different average weight than all African elephants"
>>>>>>> ab8748da2d0978392e2241936ac98b3a6c8f26df
   ]
  },
  {
   "cell_type": "markdown",
   "metadata": {},
   "source": [
    "Let's set a threshold value of $p = 0.05$ for rejecting the null hypothesis.\n",
    "\n",
    "The standard error for our sample is:\n",
    "$\\large\\frac{\\sigma}{\\sqrt{n}} = \\frac{900}{\\sqrt{25}} = 180$."
   ]
  },
  {
   "cell_type": "code",
<<<<<<< HEAD
   "execution_count": 14,
=======
   "execution_count": 43,
>>>>>>> ab8748da2d0978392e2241936ac98b3a6c8f26df
   "metadata": {},
   "outputs": [
    {
     "data": {
      "text/plain": [
       "180.0"
      ]
     },
<<<<<<< HEAD
     "execution_count": 14,
=======
     "execution_count": 43,
>>>>>>> ab8748da2d0978392e2241936ac98b3a6c8f26df
     "metadata": {},
     "output_type": "execute_result"
    }
   ],
   "source": [
<<<<<<< HEAD
    "900 / np.sqrt(25) #no -1 because continuous vlaues"
=======
    "900 / np.sqrt(25)"
>>>>>>> ab8748da2d0978392e2241936ac98b3a6c8f26df
   ]
  },
  {
   "cell_type": "markdown",
   "metadata": {},
   "source": [
    "The z-score will be: $\\large\\frac{\\bar{x} - \\mu}{se} = \\frac{8637 - 9000}{180} = -\\frac{363}{180} = -2.02$."
   ]
  },
  {
   "cell_type": "code",
<<<<<<< HEAD
   "execution_count": 15,
=======
   "execution_count": 44,
>>>>>>> ab8748da2d0978392e2241936ac98b3a6c8f26df
   "metadata": {},
   "outputs": [
    {
     "data": {
      "text/plain": [
       "-2.0166666666666666"
      ]
     },
<<<<<<< HEAD
     "execution_count": 15,
=======
     "execution_count": 44,
>>>>>>> ab8748da2d0978392e2241936ac98b3a6c8f26df
     "metadata": {},
     "output_type": "execute_result"
    }
   ],
   "source": [
<<<<<<< HEAD
    "(8637 - 9000) / 180 #z-score"
=======
    "(8637 - 9000) / 180"
>>>>>>> ab8748da2d0978392e2241936ac98b3a6c8f26df
   ]
  },
  {
   "cell_type": "code",
<<<<<<< HEAD
   "execution_count": 18,
=======
   "execution_count": 46,
>>>>>>> ab8748da2d0978392e2241936ac98b3a6c8f26df
   "metadata": {},
   "outputs": [
    {
     "data": {
      "text/plain": [
       "0.02186863651391175"
      ]
     },
<<<<<<< HEAD
     "execution_count": 18,
=======
     "execution_count": 46,
>>>>>>> ab8748da2d0978392e2241936ac98b3a6c8f26df
     "metadata": {},
     "output_type": "execute_result"
    }
   ],
   "source": [
    "# calculate the survival function of your z-score!\n",
<<<<<<< HEAD
    "stats.norm().cdf(-2.0166) #survival function calcs LARGER than z score"
=======
    "stats.norm().cdf(-2.0166)"
>>>>>>> ab8748da2d0978392e2241936ac98b3a6c8f26df
   ]
  },
  {
   "cell_type": "code",
<<<<<<< HEAD
   "execution_count": 20,
=======
   "execution_count": 48,
>>>>>>> ab8748da2d0978392e2241936ac98b3a6c8f26df
   "metadata": {},
   "outputs": [
    {
     "data": {
      "text/plain": [
       "0.04373031073585997"
      ]
     },
<<<<<<< HEAD
     "execution_count": 20,
=======
     "execution_count": 48,
>>>>>>> ab8748da2d0978392e2241936ac98b3a6c8f26df
     "metadata": {},
     "output_type": "execute_result"
    }
   ],
   "source": [
<<<<<<< HEAD
    "stats.norm(loc=9000,scale=180).cdf(8637)*2"
=======
    "stats.norm(loc=9000, scale=180).cdf(8637)*2"
>>>>>>> ab8748da2d0978392e2241936ac98b3a6c8f26df
   ]
  },
  {
   "cell_type": "markdown",
   "metadata": {},
   "source": [
    "The \"area of the tail\" corresponding to this z-score is only 2.2%. The area for both tails is thus 4.4%, still less than our 5% threshold value.\n",
    "\n",
    "Thus we ought to reject the null hypothesis and conclude that the Gabonese elephants are statistically significant!"
   ]
  },
  {
   "cell_type": "markdown",
   "metadata": {},
   "source": [
    "## Type 1 Errors (False Positives) and Type 2 Errors (False Negatives)"
   ]
  },
  {
   "cell_type": "markdown",
   "metadata": {},
   "source": [
    "Most tests for the presence of some factor are imperfect. And in fact most tests are imperfect in two ways: They will sometimes fail to predict the presence of that factor when it is after all present, and they will sometimes predict the presence of that factor when in fact it is not. Clearly, the lower these error rates are, the better, but it is not uncommon for these rates to be between 1% and 5%, and sometimes they are even higher than that. (Of course, if they're higher than 50%, then we're better off just flipping a coin to run our test!)\n",
    "\n",
    "Predicting the presence of some factor (i.e. counter to the null hypothesis) when in fact it is not there (i.e. the null hypothesis is true) is called a **\"false positive\"**. Failing to predict the presence of some factor (i.e. in accord with the null hypothesis) when in fact it is there (i.e. the null hypothesis is false) is called a **\"false negative\"**."
   ]
  },
  {
   "cell_type": "markdown",
   "metadata": {},
   "source": [
    "### A Function\n",
    "\n",
    "Suppose I start flipping the same coin twice a day. What I'm curious about is whether the coin is fair or not.\n",
    "\n",
    "My null hypothesis will be that there is \"nothing to see here\", i.e. that the coin is after all fair. The alternative hypothesis will of course be that the coin is not.\n",
    "\n",
    "- **NH**: The coin is fair.\n",
    "- **AH**: The coin is biased.\n",
    "\n",
    "My statistical test will consist of flipping the coin a number of times and looking at those flips' results.\n",
    "\n",
    "If the coin is fair, then my test will result either in a true negative (accurate) or a false positive (inaccurate). If the coin is biased, then the test will result either in a true positive (accurate) or a false negative (inaccurate).\n",
    "\n",
    "Suppose that I set my value for $\\beta$. What I want to understand is how the threshold for rejection of the null hypothesis varies as a function of $\\beta$ and of the number of tosses $k$ that come up \"heads\".\n",
    "\n",
    "I want to write a function that will tell me, given inputs for $p$ and $k$, how many tosses I would need to make before I should reject the null hypothesis.\n",
    "\n",
    "We'll use the ```.binom_test()``` method in scipy's stats module."
   ]
  },
  {
   "cell_type": "code",
   "execution_count": 21,
   "metadata": {},
   "outputs": [],
   "source": [
    "def reject_null(k, beta=0.05, p=0.5, test_alternative='less'):\n",
    "    n = k # starting the number of trials at the number of successes\n",
    "    \n",
    "    pct = stats.binom_test(k, n, p, alternative=test_alternative)\n",
    "    while pct >= beta:\n",
    "        n += 1\n",
    "        pct = stats.binom_test(k, n, p, alternative=test_alternative)\n",
    "    return n"
   ]
  },
  {
   "cell_type": "code",
   "execution_count": 22,
   "metadata": {},
   "outputs": [
    {
     "data": {
      "text/plain": [
       "7"
      ]
     },
     "execution_count": 22,
     "metadata": {},
     "output_type": "execute_result"
    }
   ],
   "source": [
    "# Let's test it out!\n",
    "\n",
    "reject_null(1, beta=0.1, p=0.5)"
   ]
  },
  {
   "cell_type": "code",
   "execution_count": null,
   "metadata": {},
   "outputs": [],
   "source": []
  }
 ],
 "metadata": {
  "kernelspec": {
   "display_name": "Python 3",
   "language": "python",
   "name": "python3"
  },
  "language_info": {
   "codemirror_mode": {
    "name": "ipython",
    "version": 3
   },
   "file_extension": ".py",
   "mimetype": "text/x-python",
   "name": "python",
   "nbconvert_exporter": "python",
   "pygments_lexer": "ipython3",
   "version": "3.7.6"
  },
  "toc": {
   "base_numbering": 1,
   "nav_menu": {},
   "number_sections": true,
   "sideBar": true,
   "skip_h1_title": false,
   "title_cell": "Table of Contents",
   "title_sidebar": "Contents",
   "toc_cell": false,
   "toc_position": {},
   "toc_section_display": true,
   "toc_window_display": false
  }
 },
 "nbformat": 4,
 "nbformat_minor": 4
}
